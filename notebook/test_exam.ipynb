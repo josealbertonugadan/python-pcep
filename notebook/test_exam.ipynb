{
 "cells": [
  {
   "cell_type": "code",
   "execution_count": 1,
   "id": "68350a98",
   "metadata": {},
   "outputs": [
    {
     "name": "stdout",
     "output_type": "stream",
     "text": [
      "4\n",
      "-15.25\n",
      "1\n"
     ]
    }
   ],
   "source": [
    "print(0o1 + 0b1 + 0x1 + 1)\n",
    "print(5 - 3**4 / 4)\n",
    "print(1 | 0 ^ 1 & ~0)"
   ]
  },
  {
   "cell_type": "code",
   "execution_count": null,
   "id": "2f5ed0d7",
   "metadata": {},
   "outputs": [
    {
     "name": "stdout",
     "output_type": "stream",
     "text": [
      "{'one': 1, 'two': 2, 'three': 3}\n",
      "{'one': 1, 'two': 5, 'four': 8}\n",
      "{'one': 1, 'two': 5, 'three': 3, 'four': 8}\n",
      "{'one': 1, 'two': 2, 'four': 8, 'three': 3}\n",
      "False\n"
     ]
    }
   ],
   "source": [
    "dict1 = {\"one\": 1, \"two\": 2, \"three\": 3}\n",
    "dict2 = {\"one\": 1, \"two\": 5, \"four\": 8}\n",
    "dict3 = dict(dict1)\n",
    "print(dict3)\n",
    "\n",
    "dict4 = dict(dict2)\n",
    "print(dict4)\n",
    "\n",
    "dict3.update(dict2)\n",
    "print(dict3)\n",
    "\n",
    "dict4.update(dict1)\n",
    "print(dict4)\n",
    "\n",
    "print(dict3 == dict4)"
   ]
  },
  {
   "cell_type": "code",
   "execution_count": 3,
   "id": "6b9578a2",
   "metadata": {},
   "outputs": [
    {
     "name": "stdout",
     "output_type": "stream",
     "text": [
      "3\n"
     ]
    }
   ],
   "source": [
    "x = 4\n",
    "y = 5\n",
    "z = 3\n",
    "print(x == y or z)"
   ]
  },
  {
   "cell_type": "code",
   "execution_count": 4,
   "id": "ec1c1350",
   "metadata": {},
   "outputs": [
    {
     "name": "stdout",
     "output_type": "stream",
     "text": [
      "[0, 1]\n"
     ]
    }
   ],
   "source": [
    "tup_a = (0, 1, 2)\n",
    "tup_b = (2, 3, 4)\n",
    "list_c = []\n",
    "for el in tup_a:\n",
    "    if el not in tup_b:\n",
    "        list_c.append(el)\n",
    "print(list_c)"
   ]
  },
  {
   "cell_type": "code",
   "execution_count": 5,
   "id": "f64bd896",
   "metadata": {},
   "outputs": [
    {
     "name": "stdout",
     "output_type": "stream",
     "text": [
      "False\n",
      "True\n"
     ]
    }
   ],
   "source": [
    "x = [\"a\", \"b\", {\"one\": 1, \"two\": {\"x\": 10, \"y\": 20, \"z\": 30}, \"three\": 3}, \"c\", \"d\"]\n",
    "print(30 in x[2])\n",
    "print(\"three\" in x[2])"
   ]
  },
  {
   "cell_type": "code",
   "execution_count": 6,
   "id": "7f4368cd",
   "metadata": {},
   "outputs": [
    {
     "name": "stdout",
     "output_type": "stream",
     "text": [
      "@\n",
      "@\n",
      "@\n"
     ]
    }
   ],
   "source": [
    "a = 0\n",
    "while a <= 5:\n",
    "    a += 2\n",
    "    print(\"@\")"
   ]
  }
 ],
 "metadata": {
  "kernelspec": {
   "display_name": "base",
   "language": "python",
   "name": "python3"
  },
  "language_info": {
   "codemirror_mode": {
    "name": "ipython",
    "version": 3
   },
   "file_extension": ".py",
   "mimetype": "text/x-python",
   "name": "python",
   "nbconvert_exporter": "python",
   "pygments_lexer": "ipython3",
   "version": "3.11.5"
  }
 },
 "nbformat": 4,
 "nbformat_minor": 5
}

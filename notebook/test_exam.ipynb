{
 "cells": [
  {
   "cell_type": "code",
   "execution_count": 1,
   "id": "68350a98",
   "metadata": {},
   "outputs": [
    {
     "name": "stdout",
     "output_type": "stream",
     "text": [
      "4\n",
      "-15.25\n",
      "1\n"
     ]
    }
   ],
   "source": [
    "print(0o1 + 0b1 + 0x1 + 1)\n",
    "print(5 - 3**4 / 4)\n",
    "print(1 | 0 ^ 1 & ~0)"
   ]
  },
  {
   "cell_type": "code",
   "execution_count": 37,
   "id": "2f5ed0d7",
   "metadata": {},
   "outputs": [
    {
     "name": "stdout",
     "output_type": "stream",
     "text": [
      "{'one': 1, 'two': 2, 'three': 3}\n",
      "{'one': 1, 'two': 5, 'four': 8}\n",
      "{'one': 1, 'two': 5, 'three': 3, 'four': 8}\n",
      "{'one': 1, 'two': 2, 'four': 8, 'three': 3}\n",
      "False\n"
     ]
    },
    {
     "ename": "KeyError",
     "evalue": "'ten'",
     "output_type": "error",
     "traceback": [
      "\u001b[0;31m---------------------------------------------------------------------------\u001b[0m",
      "\u001b[0;31mKeyError\u001b[0m                                  Traceback (most recent call last)",
      "Cell \u001b[0;32mIn[37], line 17\u001b[0m\n\u001b[1;32m     13\u001b[0m \u001b[38;5;28mprint\u001b[39m(dict4)\n\u001b[1;32m     15\u001b[0m \u001b[38;5;28mprint\u001b[39m(dict3 \u001b[38;5;241m==\u001b[39m dict4)\n\u001b[0;32m---> 17\u001b[0m \u001b[38;5;28mprint\u001b[39m(dict1[\u001b[38;5;124m\"\u001b[39m\u001b[38;5;124mten\u001b[39m\u001b[38;5;124m\"\u001b[39m])\n",
      "\u001b[0;31mKeyError\u001b[0m: 'ten'"
     ]
    }
   ],
   "source": [
    "dict1 = {\"one\": 1, \"two\": 2, \"three\": 3}\n",
    "dict2 = {\"one\": 1, \"two\": 5, \"four\": 8}\n",
    "dict3 = dict(dict1)\n",
    "print(dict3)\n",
    "\n",
    "dict4 = dict(dict2)\n",
    "print(dict4)\n",
    "\n",
    "dict3.update(dict2)\n",
    "print(dict3)\n",
    "\n",
    "dict4.update(dict1)\n",
    "print(dict4)\n",
    "\n",
    "print(dict3 == dict4)\n",
    "\n",
    "print(dict1[\"ten\"])"
   ]
  },
  {
   "cell_type": "code",
   "execution_count": 3,
   "id": "6b9578a2",
   "metadata": {},
   "outputs": [
    {
     "name": "stdout",
     "output_type": "stream",
     "text": [
      "3\n"
     ]
    }
   ],
   "source": [
    "x = 4\n",
    "y = 5\n",
    "z = 3\n",
    "print(x == y or z)"
   ]
  },
  {
   "cell_type": "code",
   "execution_count": 4,
   "id": "ec1c1350",
   "metadata": {},
   "outputs": [
    {
     "name": "stdout",
     "output_type": "stream",
     "text": [
      "[0, 1]\n"
     ]
    }
   ],
   "source": [
    "tup_a = (0, 1, 2)\n",
    "tup_b = (2, 3, 4)\n",
    "list_c = []\n",
    "for el in tup_a:\n",
    "    if el not in tup_b:\n",
    "        list_c.append(el)\n",
    "print(list_c)"
   ]
  },
  {
   "cell_type": "code",
   "execution_count": 5,
   "id": "f64bd896",
   "metadata": {},
   "outputs": [
    {
     "name": "stdout",
     "output_type": "stream",
     "text": [
      "False\n",
      "True\n"
     ]
    }
   ],
   "source": [
    "x = [\"a\", \"b\", {\"one\": 1, \"two\": {\"x\": 10, \"y\": 20, \"z\": 30}, \"three\": 3}, \"c\", \"d\"]\n",
    "print(30 in x[2])\n",
    "print(\"three\" in x[2])"
   ]
  },
  {
   "cell_type": "code",
   "execution_count": 6,
   "id": "7f4368cd",
   "metadata": {},
   "outputs": [
    {
     "name": "stdout",
     "output_type": "stream",
     "text": [
      "@\n",
      "@\n",
      "@\n"
     ]
    }
   ],
   "source": [
    "a = 0\n",
    "while a <= 5:\n",
    "    a += 2\n",
    "    print(\"@\")"
   ]
  },
  {
   "cell_type": "code",
   "execution_count": 7,
   "id": "9a9680c1",
   "metadata": {},
   "outputs": [
    {
     "name": "stdout",
     "output_type": "stream",
     "text": [
      "-15.25\n"
     ]
    }
   ],
   "source": [
    "print(5 - 3 ** 4 / 4)"
   ]
  },
  {
   "cell_type": "code",
   "execution_count": 8,
   "id": "94fc67b8",
   "metadata": {},
   "outputs": [
    {
     "name": "stdout",
     "output_type": "stream",
     "text": [
      "b\n"
     ]
    }
   ],
   "source": [
    "try:\n",
    "    val = int(input('Provide a number: '))\n",
    "    print(val/val)\n",
    "except TypeError:\n",
    "    print('a')\n",
    "except ValueError:\n",
    "    print('b')\n",
    "except ZeroDivisionError:\n",
    "    print('c')\n",
    "except:\n",
    "    print('d')"
   ]
  },
  {
   "cell_type": "code",
   "execution_count": null,
   "id": "eec3c9fd",
   "metadata": {},
   "outputs": [
    {
     "name": "stdout",
     "output_type": "stream",
     "text": [
      "1\n",
      "2\n",
      "4\n"
     ]
    }
   ],
   "source": [
    "for a in range(1, 3):\n",
    "        for b in range(1, 3):\n",
    "                if a > b:\n",
    "                        continue\n",
    "                else:\n",
    "                        print(a * b)\n",
    "                        "
   ]
  },
  {
   "cell_type": "code",
   "execution_count": 10,
   "id": "43954455",
   "metadata": {},
   "outputs": [
    {
     "name": "stdout",
     "output_type": "stream",
     "text": [
      "-1\n",
      "0\n"
     ]
    }
   ],
   "source": [
    "for i in range(-1,1):\n",
    "    print(i)"
   ]
  },
  {
   "cell_type": "code",
   "execution_count": 11,
   "id": "b16bcf00",
   "metadata": {},
   "outputs": [
    {
     "name": "stdout",
     "output_type": "stream",
     "text": [
      "0\n"
     ]
    }
   ],
   "source": [
    "print(2//3 ** 2)"
   ]
  },
  {
   "cell_type": "code",
   "execution_count": 12,
   "id": "37aa0a1a",
   "metadata": {},
   "outputs": [
    {
     "name": "stdout",
     "output_type": "stream",
     "text": [
      "()\n"
     ]
    }
   ],
   "source": [
    "tupla_vacia = tuple()\n",
    "print(tupla_vacia)"
   ]
  },
  {
   "cell_type": "code",
   "execution_count": 14,
   "id": "c9618e08",
   "metadata": {},
   "outputs": [
    {
     "name": "stdout",
     "output_type": "stream",
     "text": [
      "(1, '2', 3, 4, 5, 6)\n"
     ]
    }
   ],
   "source": [
    "print((1,'2',3) + (4,5,6))"
   ]
  },
  {
   "cell_type": "code",
   "execution_count": null,
   "id": "97e3d87e",
   "metadata": {},
   "outputs": [
    {
     "name": "stdout",
     "output_type": "stream",
     "text": [
      "*\n"
     ]
    }
   ],
   "source": [
    "i = 0\n",
    "\n",
    "while i !=0:\n",
    "    i//=2\n",
    "    print(\"**\",end=\"\")\n",
    "else:\n",
    "    print(\"*\")"
   ]
  },
  {
   "cell_type": "code",
   "execution_count": 17,
   "id": "e5233b55",
   "metadata": {},
   "outputs": [
    {
     "name": "stdout",
     "output_type": "stream",
     "text": [
      "1\n"
     ]
    }
   ],
   "source": [
    "k = 1\n",
    "\n",
    "for i in range(1,2):\n",
    "    for j in range(-1,2):\n",
    "            if i ==j:\n",
    "                k +=1\n",
    "            else:\n",
    "                break\n",
    "\n",
    "print(k)"
   ]
  },
  {
   "cell_type": "code",
   "execution_count": 20,
   "id": "cf7472a4",
   "metadata": {},
   "outputs": [
    {
     "name": "stdout",
     "output_type": "stream",
     "text": [
      "[10, 20, 30, 40, 50]\n",
      "[30, 40, 50]\n"
     ]
    },
    {
     "ename": "IndexError",
     "evalue": "list index out of range",
     "output_type": "error",
     "traceback": [
      "\u001b[0;31m---------------------------------------------------------------------------\u001b[0m",
      "\u001b[0;31mIndexError\u001b[0m                                Traceback (most recent call last)",
      "Cell \u001b[0;32mIn[20], line 4\u001b[0m\n\u001b[1;32m      2\u001b[0m \u001b[38;5;28mprint\u001b[39m(List1[:])\n\u001b[1;32m      3\u001b[0m \u001b[38;5;28mprint\u001b[39m(List1[\u001b[38;5;241m2\u001b[39m:\u001b[38;5;241m6\u001b[39m])\n\u001b[0;32m----> 4\u001b[0m \u001b[38;5;28mprint\u001b[39m(List1[\u001b[38;5;241m5\u001b[39m])\n",
      "\u001b[0;31mIndexError\u001b[0m: list index out of range"
     ]
    }
   ],
   "source": [
    "List1 = [10,20,30,40,50]\n",
    "print(List1[:])\n",
    "print(List1[2:6])\n",
    "print(List1[5])"
   ]
  },
  {
   "cell_type": "code",
   "execution_count": null,
   "id": "9498d657",
   "metadata": {},
   "outputs": [
    {
     "name": "stdout",
     "output_type": "stream",
     "text": [
      "20\n",
      "40\n",
      "30\n"
     ]
    }
   ],
   "source": [
    "x = 20\n",
    "\n",
    "def func():\n",
    "    global x\n",
    "    x+=10\n",
    "    print(10+x)\n",
    "\n",
    "print(x)\n",
    "func()\n",
    "print(x)"
   ]
  },
  {
   "cell_type": "code",
   "execution_count": 25,
   "id": "3dadf124",
   "metadata": {},
   "outputs": [
    {
     "name": "stdout",
     "output_type": "stream",
     "text": [
      "(1,)\n"
     ]
    }
   ],
   "source": [
    "my_tupla = (1,)\n",
    "print(my_tupla)"
   ]
  },
  {
   "cell_type": "code",
   "execution_count": null,
   "id": "dabdae67",
   "metadata": {},
   "outputs": [
    {
     "name": "stdout",
     "output_type": "stream",
     "text": [
      "(False, True, False)\n",
      "(False,)\n",
      "0\n"
     ]
    }
   ],
   "source": [
    "names = (True, False, True, False)\n",
    "\n",
    "newnames = names[2:]\n",
    "print(newnames)\n",
    "\n",
    "i = 0\n",
    "\n",
    "print(newnames[-1:])\n",
    "for name in newnames[-1:]:\n",
    "    if name:\n",
    "        i+=1\n",
    "\n",
    "print(i)\n",
    "\n"
   ]
  },
  {
   "cell_type": "code",
   "execution_count": 30,
   "id": "da31832f",
   "metadata": {},
   "outputs": [
    {
     "name": "stdout",
     "output_type": "stream",
     "text": [
      "(5,)\n"
     ]
    }
   ],
   "source": [
    "my_tupla = (1, 2, 3, 4, 5)\n",
    "print(my_tupla[-1:])"
   ]
  },
  {
   "cell_type": "code",
   "execution_count": null,
   "id": "9ff53d4f",
   "metadata": {},
   "outputs": [
    {
     "name": "stdout",
     "output_type": "stream",
     "text": [
      "Odd\n"
     ]
    }
   ],
   "source": [
    "def check_even_odd(number):\n",
    "    if number % 2 == 0:\n",
    "        return \"Even\"\n",
    "    else:\n",
    "        return \"Odd\" \n",
    "\n",
    "print(check_even_odd(7))"
   ]
  },
  {
   "cell_type": "code",
   "execution_count": 36,
   "id": "498eee68",
   "metadata": {},
   "outputs": [
    {
     "name": "stdout",
     "output_type": "stream",
     "text": [
      "[50, 40, 30, 20, 10]\n"
     ]
    }
   ],
   "source": [
    "List1 = [10,20,30,40,50]\n",
    "lista2 = List1[::-1]\n",
    "print(lista2)"
   ]
  },
  {
   "cell_type": "code",
   "execution_count": 40,
   "id": "474e1b0d",
   "metadata": {},
   "outputs": [
    {
     "name": "stdout",
     "output_type": "stream",
     "text": [
      "Dalserver\n",
      "12\n",
      "Ausserver\n",
      "14\n",
      "Londonserver\n",
      "16\n"
     ]
    }
   ],
   "source": [
    "dict = {\"Dalserver\":12,\"Ausserver\":14,\"Londonserver\":16}\n",
    "\n",
    "for i in dict.items():\n",
    "    print(i[0])\n",
    "    print(i[1])"
   ]
  },
  {
   "cell_type": "code",
   "execution_count": 42,
   "id": "caa937f1",
   "metadata": {},
   "outputs": [
    {
     "name": "stdout",
     "output_type": "stream",
     "text": [
      "3\n",
      "3\n",
      "0\n"
     ]
    }
   ],
   "source": [
    "print(3//2 *3)\n",
    "print((3//2) *3)\n",
    "print(3//(2 *3))"
   ]
  },
  {
   "cell_type": "code",
   "execution_count": 47,
   "id": "9dde7492",
   "metadata": {},
   "outputs": [
    {
     "name": "stdout",
     "output_type": "stream",
     "text": [
      "4\n",
      "2\n",
      "1\n"
     ]
    }
   ],
   "source": [
    "List1 = [1,2,3,4,5]\n",
    "print(List1.index(5)) # devuelve el indice del primer elemento que encuentra con valor igual a 5\n",
    "print(List1.index(3)) # devuelve el indice del primer elemento que encuentra con valor igual a 3\n",
    "print(len(List1[0:1]))"
   ]
  },
  {
   "cell_type": "code",
   "execution_count": 46,
   "id": "5602a3e4",
   "metadata": {},
   "outputs": [
    {
     "name": "stdout",
     "output_type": "stream",
     "text": [
      "The answer is 0.0.\n",
      "You successfully divided two numbers.\n",
      "Thank you for playing.\n"
     ]
    }
   ],
   "source": [
    "a = float(input(\"Enter a number. \"))\n",
    "\n",
    "b = float(input(\"Enter a number to divide by. \"))\n",
    "\n",
    "try:\n",
    "    print (f\"The answer is {a/b}.\")\n",
    "\n",
    "except:\n",
    "    print(\"This did not work. Did you try to divide by zero?\")\n",
    "\n",
    "else:\n",
    "    print(\"You successfully divided two numbers.\")\n",
    "\n",
    "finally:\n",
    "    print(\"Thank you for playing.\")"
   ]
  },
  {
   "cell_type": "code",
   "execution_count": 50,
   "id": "3f02b1f2",
   "metadata": {},
   "outputs": [
    {
     "name": "stdout",
     "output_type": "stream",
     "text": [
      "[1, 2]\n",
      "[1]\n"
     ]
    }
   ],
   "source": [
    "myList = [1,2,3]\n",
    "myList.pop()\n",
    "print(myList)\n",
    "\n",
    "myList.remove(2)\n",
    "print(myList)"
   ]
  },
  {
   "cell_type": "code",
   "execution_count": 52,
   "id": "3738e2fa",
   "metadata": {},
   "outputs": [
    {
     "name": "stdout",
     "output_type": "stream",
     "text": [
      "42\n"
     ]
    }
   ],
   "source": [
    "\n",
    "binary_number = '101010'\n",
    "decimal_number = int(binary_number, 2)\n",
    "print(decimal_number)\n",
    "# Output: 42"
   ]
  },
  {
   "cell_type": "code",
   "execution_count": null,
   "id": "0f8d122c",
   "metadata": {},
   "outputs": [
    {
     "name": "stdout",
     "output_type": "stream",
     "text": [
      "[[11, 12, 13], [14, 15, 16], [17, 18, 19]]\n"
     ]
    }
   ],
   "source": [
    "List1 = [[1,2,3],[4,5,6],[7,8,9]]\n",
    "\n",
    "print([[col+10 for col in row] for row in List1])"
   ]
  },
  {
   "cell_type": "code",
   "execution_count": null,
   "id": "63ad3db1",
   "metadata": {},
   "outputs": [
    {
     "name": "stdout",
     "output_type": "stream",
     "text": [
      "[1, 2, 3, 4, 5, 7]\n"
     ]
    }
   ],
   "source": [
    "L = [1, 2, 3, 4, 5]\n",
    "L1 = L\n",
    "L.append(7)\n",
    "\n",
    "del L\n",
    "print(L1)"
   ]
  },
  {
   "cell_type": "code",
   "execution_count": null,
   "id": "d7c793ad",
   "metadata": {},
   "outputs": [
    {
     "name": "stdout",
     "output_type": "stream",
     "text": [
      "[1]\n",
      "[1, 2]\n",
      "[1, 2, 3]\n"
     ]
    }
   ],
   "source": [
    "values = []\n",
    "\n",
    "for i in range(1,4):\n",
    "    values.append(i)\n",
    "    print(values)"
   ]
  },
  {
   "cell_type": "code",
   "execution_count": null,
   "id": "551d74a9",
   "metadata": {},
   "outputs": [
    {
     "name": "stdout",
     "output_type": "stream",
     "text": [
      "[1, 2, 3, 4, 5]\n"
     ]
    }
   ],
   "source": [
    "L = [1,2,3,4,5]\n",
    "L*2\n",
    "print(L)"
   ]
  },
  {
   "cell_type": "code",
   "execution_count": 57,
   "id": "7aebe791",
   "metadata": {},
   "outputs": [
    {
     "name": "stdout",
     "output_type": "stream",
     "text": [
      "2\n"
     ]
    }
   ],
   "source": [
    "nested_data = ((1, 2), [3, 4], (5, [6, 7]))\n",
    "print(len(nested_data[2][1]))"
   ]
  },
  {
   "cell_type": "code",
   "execution_count": null,
   "id": "7d6996da",
   "metadata": {},
   "outputs": [
    {
     "name": "stdout",
     "output_type": "stream",
     "text": [
      "0\n",
      "1\n",
      "2\n"
     ]
    }
   ],
   "source": [
    "# The loop runs for values of x from 0 to 2, printing each value.\n",
    "# When x becomes 3, the break statement is executed, and the loop is terminated.\n",
    "# Therefore, the else block associated with the for loop is not executed.\n",
    "for x in range(4):\n",
    "    if x == 3:\n",
    "        break\n",
    "    print(x)\n",
    "else:\n",
    "    print(\"Done\")"
   ]
  },
  {
   "cell_type": "code",
   "execution_count": null,
   "id": "cb93d3e7",
   "metadata": {},
   "outputs": [
    {
     "name": "stdout",
     "output_type": "stream",
     "text": [
      "1\n",
      "3\n",
      "5\n",
      "7\n",
      "9\n"
     ]
    }
   ],
   "source": [
    "# odd numbers: números impares\n",
    "for i in range(1,10,2):\n",
    "    print(i)"
   ]
  },
  {
   "cell_type": "code",
   "execution_count": 60,
   "id": "9a8b982d",
   "metadata": {},
   "outputs": [
    {
     "name": "stdout",
     "output_type": "stream",
     "text": [
      "It is wrong\n"
     ]
    }
   ],
   "source": [
    "try:\n",
    "    1/0\n",
    "except ArithmeticError:\n",
    "    print(\"It is wrong\")\n",
    "except ZeroDivisionError:\n",
    "    print(\"Any number cannot be divided by zero\")"
   ]
  },
  {
   "cell_type": "markdown",
   "id": "34794941",
   "metadata": {},
   "source": [
    "In this case, the except ArithmeticError: block will be executed because ZeroDivisionError is a subclass of ArithmeticError. Python goes through the except blocks in order, and it finds the first one that matches the type of the raised exception.  \n",
    "So, when dividing by zero, the output will be \"It is wrong,\" even though the more specific ZeroDivisionError block is present. If you want to catch ZeroDivisionError specifically, it's recommended to place that block first in the order of except blocks."
   ]
  },
  {
   "cell_type": "code",
   "execution_count": 61,
   "id": "41261dcb",
   "metadata": {},
   "outputs": [
    {
     "name": "stdout",
     "output_type": "stream",
     "text": [
      "Any number cannot be divided by zero\n"
     ]
    }
   ],
   "source": [
    "try:\n",
    "    1/0\n",
    "except ZeroDivisionError:\n",
    "    print(\"Any number cannot be divided by zero\")\n",
    "except ArithmeticError:\n",
    "    print(\"It is wrong\")"
   ]
  },
  {
   "cell_type": "code",
   "execution_count": 64,
   "id": "2e44b952",
   "metadata": {},
   "outputs": [
    {
     "name": "stdout",
     "output_type": "stream",
     "text": [
      "[1, 2, 3, 4]\n"
     ]
    }
   ],
   "source": [
    "list1 = [1, 2, 3]\n",
    "list2 = list1\n",
    "list2.append(4)\n",
    "\n",
    "print(list1)"
   ]
  },
  {
   "cell_type": "code",
   "execution_count": 65,
   "id": "99b06777",
   "metadata": {},
   "outputs": [
    {
     "name": "stdout",
     "output_type": "stream",
     "text": [
      "[1, 2, 3]\n"
     ]
    }
   ],
   "source": [
    "x = [1, 2, 3]\n",
    "y = x[:]\n",
    "y.append(4)\n",
    "\n",
    "print(x)"
   ]
  }
 ],
 "metadata": {
  "kernelspec": {
   "display_name": "base",
   "language": "python",
   "name": "python3"
  },
  "language_info": {
   "codemirror_mode": {
    "name": "ipython",
    "version": 3
   },
   "file_extension": ".py",
   "mimetype": "text/x-python",
   "name": "python",
   "nbconvert_exporter": "python",
   "pygments_lexer": "ipython3",
   "version": "3.11.5"
  }
 },
 "nbformat": 4,
 "nbformat_minor": 5
}

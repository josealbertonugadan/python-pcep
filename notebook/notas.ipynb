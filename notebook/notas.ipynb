{
 "cells": [
  {
   "cell_type": "markdown",
   "id": "4ce7cf6a",
   "metadata": {},
   "source": [
    "# Módulo 1"
   ]
  },
  {
   "cell_type": "markdown",
   "id": "e5aea588",
   "metadata": {},
   "source": [
    "## Cadenas"
   ]
  },
  {
   "cell_type": "code",
   "execution_count": 1,
   "id": "545e7809",
   "metadata": {},
   "outputs": [
    {
     "name": "stdout",
     "output_type": "stream",
     "text": [
      "Hello! I'm from Mexico City\n"
     ]
    }
   ],
   "source": [
    "# BUENA PRACTICA: usar comillas simples en lugar de dobles\n",
    "print('Hello! I\\'m from Mexico City')"
   ]
  },
  {
   "cell_type": "code",
   "execution_count": 2,
   "id": "ee11ab8a",
   "metadata": {},
   "outputs": [
    {
     "name": "stdout",
     "output_type": "stream",
     "text": [
      "Hello!, I'm from Mexico City\n"
     ]
    }
   ],
   "source": [
    "# NO HACER:\n",
    "print(\"Hello!, I'm from Mexico City\")"
   ]
  },
  {
   "cell_type": "markdown",
   "id": "f7423779",
   "metadata": {},
   "source": [
    "## Enteros"
   ]
  },
  {
   "cell_type": "code",
   "execution_count": 3,
   "id": "954ff628",
   "metadata": {},
   "outputs": [
    {
     "name": "stdout",
     "output_type": "stream",
     "text": [
      "12000301\n",
      "12000301\n"
     ]
    }
   ],
   "source": [
    "# A partir de Python 3 se pueden usar guiones bajos en números para mejor legibilidad\n",
    "num1 = 12000300\n",
    "num2 = 12_000_300\n",
    "print(num1 + 1)\n",
    "print(num2 + 1)"
   ]
  },
  {
   "cell_type": "markdown",
   "id": "09d05223",
   "metadata": {},
   "source": [
    "Los nombres de las variables deben comenzar únicamente con letras o guiones bajo."
   ]
  },
  {
   "cell_type": "markdown",
   "id": "7cf4eeac",
   "metadata": {},
   "source": [
    "# Módulo 2"
   ]
  },
  {
   "cell_type": "markdown",
   "id": "09ffced2",
   "metadata": {},
   "source": [
    "## Flotantes"
   ]
  },
  {
   "cell_type": "code",
   "execution_count": 1,
   "id": "030e322f",
   "metadata": {},
   "outputs": [
    {
     "name": "stdout",
     "output_type": "stream",
     "text": [
      "0.1\n",
      "0.30000000000000004\n"
     ]
    }
   ],
   "source": [
    "# Los flotantes son representaciones aproximadas\n",
    "print(0.1)\n",
    "print(0.1 + 0.1 + 0.1)"
   ]
  },
  {
   "cell_type": "markdown",
   "id": "b0669059",
   "metadata": {},
   "source": [
    "## Operador exponente"
   ]
  },
  {
   "cell_type": "code",
   "execution_count": 2,
   "id": "e4ec3d68",
   "metadata": {},
   "outputs": [
    {
     "name": "stdout",
     "output_type": "stream",
     "text": [
      "256\n",
      "64\n",
      "256\n"
     ]
    }
   ],
   "source": [
    "# El operador exponencial funciona de derecha a izquierda\n",
    "print(2 ** 2 ** 3)\n",
    "print((2 ** 2) ** 3)\n",
    "print(2 ** (2 ** 3))"
   ]
  },
  {
   "cell_type": "markdown",
   "id": "c1ce2965",
   "metadata": {},
   "source": [
    "Todos los demás operadores funcionan de izquierda a derecha."
   ]
  },
  {
   "cell_type": "markdown",
   "id": "15dbc697",
   "metadata": {},
   "source": [
    "## Operadores de bits"
   ]
  },
  {
   "cell_type": "code",
   "execution_count": 7,
   "id": "849eb3ab",
   "metadata": {},
   "outputs": [
    {
     "name": "stdout",
     "output_type": "stream",
     "text": [
      "0\n",
      "1\n",
      "1\n"
     ]
    }
   ],
   "source": [
    "first_bit = 0\n",
    "second_bit = 1\n",
    "print(first_bit & second_bit)  # AND\n",
    "print(first_bit | second_bit)  # OR\n",
    "print(first_bit ^ second_bit)  # XOR (uno u otro, no ambos)"
   ]
  },
  {
   "cell_type": "code",
   "execution_count": null,
   "id": "b1c0fd24",
   "metadata": {},
   "outputs": [
    {
     "name": "stdout",
     "output_type": "stream",
     "text": [
      "-1\n",
      "-2\n"
     ]
    }
   ],
   "source": [
    "# ~ es el operador NOT:\n",
    "# ~x = - x - 1\n",
    "print(~first_bit)  # NOT\n",
    "print(~second_bit)  # NOT"
   ]
  },
  {
   "cell_type": "code",
   "execution_count": 14,
   "id": "22e354a1",
   "metadata": {},
   "outputs": [
    {
     "name": "stdout",
     "output_type": "stream",
     "text": [
      "Multiplicado/dividido por 2\n",
      "48\n",
      "12\n",
      "Multiplicado/dividido por 4\n",
      "96\n",
      "6\n",
      "Multiplicado/dividido por 8\n",
      "192\n",
      "3\n",
      "Multiplicado/dividido por 16\n",
      "384\n",
      "1\n",
      "Multiplicado/dividido por 32\n",
      "768\n",
      "0\n"
     ]
    }
   ],
   "source": [
    "# desplazamiento a la izquierda y a la derecha\n",
    "numero_decimal = 24\n",
    "print('Multiplicado/dividido por 2')\n",
    "print(numero_decimal << 1)  # Desplazamiento a la izquierda (multiplicación por 2)\n",
    "print(numero_decimal >> 1)  # Desplazamiento a la derecha (división por 2)\n",
    "print('Multiplicado/dividido por 4')\n",
    "print(numero_decimal << 2)  # Desplazamiento a la izquierda (multiplicación por 4)\n",
    "print(numero_decimal >> 2)  # Desplazamiento a la derecha (división por 4)\n",
    "print('Multiplicado/dividido por 8')\n",
    "print(numero_decimal << 3)  # Desplazamiento a la izquierda (multiplicación por 8)\n",
    "print(numero_decimal >> 3)  # Desplazamiento a la derecha (división por 8)\n",
    "print('Multiplicado/dividido por 16')\n",
    "print(numero_decimal << 4)  # Desplazamiento a la izquierda (multiplicación por 16)\n",
    "print(numero_decimal >> 4)  # Desplazamiento a la derecha (división por 16)\n",
    "print('Multiplicado/dividido por 32')\n",
    "print(numero_decimal << 5)  # Desplazamiento a la izquierda (multiplicación por 32)\n",
    "print(numero_decimal >> 5)  # Desplazamiento a la derecha (división por 32)"
   ]
  }
 ],
 "metadata": {
  "kernelspec": {
   "display_name": "base",
   "language": "python",
   "name": "python3"
  },
  "language_info": {
   "codemirror_mode": {
    "name": "ipython",
    "version": 3
   },
   "file_extension": ".py",
   "mimetype": "text/x-python",
   "name": "python",
   "nbconvert_exporter": "python",
   "pygments_lexer": "ipython3",
   "version": "3.11.5"
  }
 },
 "nbformat": 4,
 "nbformat_minor": 5
}

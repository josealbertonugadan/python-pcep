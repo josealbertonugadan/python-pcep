{
 "cells": [
  {
   "cell_type": "markdown",
   "id": "4ce7cf6a",
   "metadata": {},
   "source": [
    "# Módulo 1"
   ]
  },
  {
   "cell_type": "code",
   "execution_count": 1,
   "id": "545e7809",
   "metadata": {},
   "outputs": [
    {
     "name": "stdout",
     "output_type": "stream",
     "text": [
      "Hello! I'm from Mexico City\n"
     ]
    }
   ],
   "source": [
    "# BUENA PRACTICA: usar comillas simples en lugar de dobles\n",
    "print('Hello! I\\'m from Mexico City')"
   ]
  },
  {
   "cell_type": "code",
   "execution_count": 2,
   "id": "ee11ab8a",
   "metadata": {},
   "outputs": [
    {
     "name": "stdout",
     "output_type": "stream",
     "text": [
      "Hello!, I'm from Mexico City\n"
     ]
    }
   ],
   "source": [
    "# NO HACER:\n",
    "print(\"Hello!, I'm from Mexico City\")"
   ]
  },
  {
   "cell_type": "code",
   "execution_count": 3,
   "id": "954ff628",
   "metadata": {},
   "outputs": [
    {
     "name": "stdout",
     "output_type": "stream",
     "text": [
      "12000301\n",
      "12000301\n"
     ]
    }
   ],
   "source": [
    "# A partir de Python 3 se pueden usar guiones bajos en números para mejor legibilidad\n",
    "num1 = 12000300\n",
    "num2 = 12_000_300\n",
    "print(num1 + 1)\n",
    "print(num2 + 1)"
   ]
  },
  {
   "cell_type": "markdown",
   "id": "09d05223",
   "metadata": {},
   "source": [
    "Los nombres de las variables deben comenzar únicamente con letras o guiones bajo."
   ]
  },
  {
   "cell_type": "markdown",
   "id": "7cf4eeac",
   "metadata": {},
   "source": [
    "# Módulo 2"
   ]
  },
  {
   "cell_type": "code",
   "execution_count": 1,
   "id": "030e322f",
   "metadata": {},
   "outputs": [
    {
     "name": "stdout",
     "output_type": "stream",
     "text": [
      "0.1\n",
      "0.30000000000000004\n"
     ]
    }
   ],
   "source": [
    "# Los flotantes son representaciones aproximadas\n",
    "print(0.1)\n",
    "print(0.1 + 0.1 + 0.1)"
   ]
  },
  {
   "cell_type": "code",
   "execution_count": 2,
   "id": "e4ec3d68",
   "metadata": {},
   "outputs": [
    {
     "name": "stdout",
     "output_type": "stream",
     "text": [
      "256\n",
      "64\n",
      "256\n"
     ]
    }
   ],
   "source": [
    "# El operador exponencial funciona de derecha a izquierda\n",
    "print(2 ** 2 ** 3)\n",
    "print((2 ** 2) ** 3)\n",
    "print(2 ** (2 ** 3))"
   ]
  }
 ],
 "metadata": {
  "kernelspec": {
   "display_name": "base",
   "language": "python",
   "name": "python3"
  },
  "language_info": {
   "codemirror_mode": {
    "name": "ipython",
    "version": 3
   },
   "file_extension": ".py",
   "mimetype": "text/x-python",
   "name": "python",
   "nbconvert_exporter": "python",
   "pygments_lexer": "ipython3",
   "version": "3.11.5"
  }
 },
 "nbformat": 4,
 "nbformat_minor": 5
}

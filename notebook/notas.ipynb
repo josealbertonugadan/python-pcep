{
 "cells": [
  {
   "cell_type": "markdown",
   "id": "4ce7cf6a",
   "metadata": {},
   "source": [
    "# Módulo 1"
   ]
  },
  {
   "cell_type": "markdown",
   "id": "e5aea588",
   "metadata": {},
   "source": [
    "## Cadenas"
   ]
  },
  {
   "cell_type": "code",
   "execution_count": null,
   "id": "545e7809",
   "metadata": {},
   "outputs": [
    {
     "name": "stdout",
     "output_type": "stream",
     "text": [
      "Hello! I'm from Mexico City\n"
     ]
    }
   ],
   "source": [
    "# Buena práctica: usar comillas simples en lugar de dobles\n",
    "print('Hello! I\\'m from Mexico City')"
   ]
  },
  {
   "cell_type": "code",
   "execution_count": null,
   "id": "ee11ab8a",
   "metadata": {},
   "outputs": [
    {
     "name": "stdout",
     "output_type": "stream",
     "text": [
      "Hello!, I'm from Mexico City\n"
     ]
    }
   ],
   "source": [
    "# No hacer:\n",
    "print(\"Hello!, I'm from Mexico City\")"
   ]
  },
  {
   "cell_type": "markdown",
   "id": "f7423779",
   "metadata": {},
   "source": [
    "## Enteros"
   ]
  },
  {
   "cell_type": "code",
   "execution_count": 3,
   "id": "954ff628",
   "metadata": {},
   "outputs": [
    {
     "name": "stdout",
     "output_type": "stream",
     "text": [
      "12000301\n",
      "12000301\n"
     ]
    }
   ],
   "source": [
    "# A partir de Python 3 se pueden usar guiones bajos en números para mejor legibilidad\n",
    "num1 = 12000300\n",
    "num2 = 12_000_300\n",
    "print(num1 + 1)\n",
    "print(num2 + 1)"
   ]
  },
  {
   "cell_type": "markdown",
   "id": "09d05223",
   "metadata": {},
   "source": [
    "Los nombres de las variables deben comenzar únicamente con letras o guiones bajo."
   ]
  },
  {
   "cell_type": "markdown",
   "id": "94ea0df2",
   "metadata": {},
   "source": [
    "## Base octal y hexadecimal"
   ]
  },
  {
   "cell_type": "code",
   "execution_count": null,
   "id": "3938f20f",
   "metadata": {},
   "outputs": [
    {
     "name": "stdout",
     "output_type": "stream",
     "text": [
      "83\n"
     ]
    }
   ],
   "source": [
    "# Octal: empiezan con 0O or 0o\n",
    "print(0o123)"
   ]
  },
  {
   "cell_type": "code",
   "execution_count": null,
   "id": "5b28a56e",
   "metadata": {},
   "outputs": [
    {
     "name": "stdout",
     "output_type": "stream",
     "text": [
      "291\n"
     ]
    }
   ],
   "source": [
    "# Hexadecimal: empiezan con 0X or 0x\n",
    "print(0x123)"
   ]
  },
  {
   "cell_type": "markdown",
   "id": "7cf4eeac",
   "metadata": {},
   "source": [
    "# Módulo 2"
   ]
  },
  {
   "cell_type": "markdown",
   "id": "09ffced2",
   "metadata": {},
   "source": [
    "## Flotantes"
   ]
  },
  {
   "cell_type": "code",
   "execution_count": 1,
   "id": "030e322f",
   "metadata": {},
   "outputs": [
    {
     "name": "stdout",
     "output_type": "stream",
     "text": [
      "0.1\n",
      "0.30000000000000004\n"
     ]
    }
   ],
   "source": [
    "# Los flotantes son representaciones aproximadas\n",
    "print(0.1)\n",
    "print(0.1 + 0.1 + 0.1)"
   ]
  },
  {
   "cell_type": "markdown",
   "id": "b0669059",
   "metadata": {},
   "source": [
    "## Operador exponente"
   ]
  },
  {
   "cell_type": "code",
   "execution_count": 2,
   "id": "e4ec3d68",
   "metadata": {},
   "outputs": [
    {
     "name": "stdout",
     "output_type": "stream",
     "text": [
      "256\n",
      "64\n",
      "256\n"
     ]
    }
   ],
   "source": [
    "# El operador exponencial funciona de derecha a izquierda\n",
    "print(2 ** 2 ** 3)\n",
    "print((2 ** 2) ** 3)\n",
    "print(2 ** (2 ** 3))"
   ]
  },
  {
   "cell_type": "markdown",
   "id": "c1ce2965",
   "metadata": {},
   "source": [
    "Todos los demás operadores funcionan de izquierda a derecha."
   ]
  },
  {
   "cell_type": "markdown",
   "id": "15dbc697",
   "metadata": {},
   "source": [
    "## Operadores de bits"
   ]
  },
  {
   "cell_type": "code",
   "execution_count": 7,
   "id": "849eb3ab",
   "metadata": {},
   "outputs": [
    {
     "name": "stdout",
     "output_type": "stream",
     "text": [
      "0\n",
      "1\n",
      "1\n"
     ]
    }
   ],
   "source": [
    "first_bit = 0\n",
    "second_bit = 1\n",
    "print(first_bit & second_bit)  # AND\n",
    "print(first_bit | second_bit)  # OR\n",
    "print(first_bit ^ second_bit)  # XOR (uno u otro, no ambos)"
   ]
  },
  {
   "cell_type": "code",
   "execution_count": null,
   "id": "b1c0fd24",
   "metadata": {},
   "outputs": [
    {
     "name": "stdout",
     "output_type": "stream",
     "text": [
      "-1\n",
      "-2\n"
     ]
    }
   ],
   "source": [
    "# ~ es el operador NOT:\n",
    "# ~x = - x - 1\n",
    "print(~first_bit)  # NOT\n",
    "print(~second_bit)  # NOT"
   ]
  },
  {
   "cell_type": "code",
   "execution_count": null,
   "id": "22e354a1",
   "metadata": {},
   "outputs": [
    {
     "name": "stdout",
     "output_type": "stream",
     "text": [
      "Multiplicado/dividido por 2\n",
      "48\n",
      "12\n",
      "Multiplicado/dividido por 4\n",
      "96\n",
      "6\n",
      "Multiplicado/dividido por 8\n",
      "192\n",
      "3\n",
      "Multiplicado/dividido por 16\n",
      "384\n",
      "1\n",
      "Multiplicado/dividido por 32\n",
      "768\n",
      "0\n"
     ]
    }
   ],
   "source": [
    "# Desplazamiento a la izquierda y a la derecha\n",
    "numero_decimal = 24\n",
    "print('Multiplicado/dividido por 2')\n",
    "print(numero_decimal << 1)  # Desplazamiento a la izquierda (multiplicación por 2)\n",
    "print(numero_decimal >> 1)  # Desplazamiento a la derecha (división por 2)\n",
    "print('Multiplicado/dividido por 4')\n",
    "print(numero_decimal << 2)  # Desplazamiento a la izquierda (multiplicación por 4)\n",
    "print(numero_decimal >> 2)  # Desplazamiento a la derecha (división por 4)\n",
    "print('Multiplicado/dividido por 8')\n",
    "print(numero_decimal << 3)  # Desplazamiento a la izquierda (multiplicación por 8)\n",
    "print(numero_decimal >> 3)  # Desplazamiento a la derecha (división por 8)\n",
    "print('Multiplicado/dividido por 16')\n",
    "print(numero_decimal << 4)  # Desplazamiento a la izquierda (multiplicación por 16)\n",
    "print(numero_decimal >> 4)  # Desplazamiento a la derecha (división por 16)\n",
    "print('Multiplicado/dividido por 32')\n",
    "print(numero_decimal << 5)  # Desplazamiento a la izquierda (multiplicación por 32)\n",
    "print(numero_decimal >> 5)  # Desplazamiento a la derecha (división por 32)"
   ]
  },
  {
   "cell_type": "markdown",
   "id": "3073dd8c",
   "metadata": {},
   "source": [
    "# Módulo 3"
   ]
  },
  {
   "cell_type": "markdown",
   "id": "94318b67",
   "metadata": {},
   "source": [
    "## Operadores lógicos"
   ]
  },
  {
   "cell_type": "markdown",
   "id": "7a41e5f1",
   "metadata": {},
   "source": [
    "Prioridad de los operadores lógicos:\n",
    "1. not\n",
    "2. and\n",
    "3. or"
   ]
  },
  {
   "cell_type": "code",
   "execution_count": null,
   "id": "20d2e09b",
   "metadata": {},
   "outputs": [
    {
     "name": "stdout",
     "output_type": "stream",
     "text": [
      "You qualify!\n"
     ]
    }
   ],
   "source": [
    "user_age = int(input('What is your age? '))\n",
    "user_country = input('What is your country? ')\n",
    "\n",
    "# Se usa la barra invertida para continuar la línea\n",
    "if not user_country == 'Germany' and user_age < 25 or \\\n",
    "    user_country == 'Germany' and user_age < 23:\n",
    "    print('You qualify!')\n",
    "else:\n",
    "    print('You don\\'t qualify!')\n"
   ]
  },
  {
   "cell_type": "markdown",
   "id": "42a8a4ff",
   "metadata": {},
   "source": [
    "## Otras características de los ciclos"
   ]
  },
  {
   "cell_type": "markdown",
   "id": "4a43a99b",
   "metadata": {},
   "source": [
    "La sentencia else siempre se ejecuta (una vez) si se incluye como parte de un ciclo. Excepto si se usa break."
   ]
  },
  {
   "cell_type": "code",
   "execution_count": 3,
   "id": "3acd322a",
   "metadata": {},
   "outputs": [
    {
     "name": "stdout",
     "output_type": "stream",
     "text": [
      "else: 5\n"
     ]
    }
   ],
   "source": [
    "i = 5\n",
    "while i < 5:\n",
    "    print(i)\n",
    "    i += 1\n",
    "else:\n",
    "    print('else:', i)"
   ]
  },
  {
   "cell_type": "markdown",
   "id": "1d827db6",
   "metadata": {},
   "source": [
    "# Módulo 4"
   ]
  },
  {
   "cell_type": "markdown",
   "id": "88433a05",
   "metadata": {},
   "source": [
    "## Recorriendo listas"
   ]
  },
  {
   "cell_type": "code",
   "execution_count": 8,
   "id": "9bb7e091",
   "metadata": {},
   "outputs": [
    {
     "name": "stdout",
     "output_type": "stream",
     "text": [
      "[1, 'uno y medio', 2, 3, 4, 5, 'seis', 7]\n"
     ]
    }
   ],
   "source": [
    "lista = [1, 2, 3, 4, 5, 'seis']\n",
    "lista.append(7)\n",
    "lista.insert(1, 'uno y medio')\n",
    "print(lista)"
   ]
  },
  {
   "cell_type": "code",
   "execution_count": 10,
   "id": "636b2854",
   "metadata": {},
   "outputs": [
    {
     "name": "stdout",
     "output_type": "stream",
     "text": [
      "J o s e   A l b e r t o "
     ]
    }
   ],
   "source": [
    "nombre = 'Jose Alberto'\n",
    "for i in nombre:\n",
    "    print(i, end=' ')"
   ]
  },
  {
   "cell_type": "code",
   "execution_count": 11,
   "id": "7777d444",
   "metadata": {},
   "outputs": [
    {
     "name": "stdout",
     "output_type": "stream",
     "text": [
      "Current index: 0 | Current city: New York City\n",
      "Current index: 1 | Current city: Los Angeles\n",
      "Current index: 2 | Current city: Chicago\n",
      "Current index: 3 | Current city: Houston\n",
      "Current index: 4 | Current city: Phoenix\n"
     ]
    }
   ],
   "source": [
    "top_cities = ['New York City', 'Los Angeles', 'Chicago', 'Houston', 'Phoenix']\n",
    "for city_index in range(len(top_cities)):\n",
    "    print('Current index:', city_index, '| Current city:', top_cities[city_index], )"
   ]
  },
  {
   "cell_type": "markdown",
   "id": "4f92905c",
   "metadata": {},
   "source": [
    "## Cambiando valores"
   ]
  },
  {
   "cell_type": "code",
   "execution_count": 12,
   "id": "cc72ae45",
   "metadata": {},
   "outputs": [
    {
     "name": "stdout",
     "output_type": "stream",
     "text": [
      "Before swapping: 20 10\n",
      "After swapping: 10 20\n"
     ]
    }
   ],
   "source": [
    "first = input('Enter first number: ')\n",
    "second = input('Enter second number: ')\n",
    "print('Before swapping:', first, second)\n",
    "temporary = first\n",
    "first = second\n",
    "second = temporary\n",
    "print('After swapping:', first, second)"
   ]
  },
  {
   "cell_type": "code",
   "execution_count": 13,
   "id": "ae4c6686",
   "metadata": {},
   "outputs": [
    {
     "name": "stdout",
     "output_type": "stream",
     "text": [
      "Before swapping: 20 10\n",
      "After swapping: 10 20\n"
     ]
    }
   ],
   "source": [
    "# Otra forma más sencilla de intercambiar valores\n",
    "first = input('Enter first number: ')\n",
    "second = input('Enter second number: ')\n",
    "print('Before swapping:', first, second)\n",
    "first, second = second, first\n",
    "print('After swapping:', first, second)"
   ]
  },
  {
   "cell_type": "code",
   "execution_count": 14,
   "id": "1eadd132",
   "metadata": {},
   "outputs": [
    {
     "name": "stdout",
     "output_type": "stream",
     "text": [
      "['Phoenix', 'Los Angeles', 'Chicago', 'Houston', 'New York City']\n"
     ]
    }
   ],
   "source": [
    "# Intercambiando valores dentro de una lista\n",
    "top_cities = ['New York City', 'Los Angeles', 'Chicago', 'Houston', 'Phoenix']\n",
    "top_cities[0], top_cities[4] = top_cities[4], top_cities[0]\n",
    "print(top_cities)"
   ]
  },
  {
   "cell_type": "markdown",
   "id": "f718d739",
   "metadata": {},
   "source": [
    "## Usando un método vs una función"
   ]
  },
  {
   "cell_type": "code",
   "execution_count": 15,
   "id": "2100b571",
   "metadata": {},
   "outputs": [
    {
     "name": "stdout",
     "output_type": "stream",
     "text": [
      "['Chicago', 'Houston', 'Los Angeles', 'New York City', 'Phoenix']\n"
     ]
    }
   ],
   "source": [
    "# Usando el método sort se modifica el objeto original\n",
    "top_cities = ['New York City', 'Los Angeles', 'Chicago', 'Houston', 'Phoenix']\n",
    "top_cities.sort()\n",
    "print(top_cities)"
   ]
  },
  {
   "cell_type": "code",
   "execution_count": 16,
   "id": "1a99d549",
   "metadata": {},
   "outputs": [
    {
     "name": "stdout",
     "output_type": "stream",
     "text": [
      "['Chicago', 'Houston', 'Los Angeles', 'New York City', 'Phoenix']\n",
      "['New York City', 'Los Angeles', 'Chicago', 'Houston', 'Phoenix']\n"
     ]
    }
   ],
   "source": [
    "# Usando la función sorted no se modifica el objeto original\n",
    "top_cities = ['New York City', 'Los Angeles', 'Chicago', 'Houston', 'Phoenix']\n",
    "print(sorted(top_cities))\n",
    "print(top_cities)"
   ]
  },
  {
   "cell_type": "markdown",
   "id": "6c305701",
   "metadata": {},
   "source": [
    "## Copiando listas"
   ]
  },
  {
   "cell_type": "markdown",
   "id": "04f0a3ff",
   "metadata": {},
   "source": [
    "Para tipos de datos simples (como string, enteros, flotantes, etc.) al copiar un valor, la nueva variable toma el nombre (valor) de la variable existente y así se tienen 2 variables distintas con el mismo valor:"
   ]
  },
  {
   "cell_type": "code",
   "execution_count": 1,
   "id": "628d92fc",
   "metadata": {},
   "outputs": [
    {
     "name": "stdout",
     "output_type": "stream",
     "text": [
      "Daenerys Targaryen Jon Snow\n"
     ]
    }
   ],
   "source": [
    "name_original = 'Jon Snow'\n",
    "name_new = name_original\n",
    "name_original = 'Daenerys Targaryen'\n",
    "print(name_original, name_new)"
   ]
  },
  {
   "cell_type": "markdown",
   "id": "b42d998a",
   "metadata": {},
   "source": [
    "Sin embargo, para el caso de las listas no funciona de la misma manera. La nueva variable obtiene la referencia del lugar de la memoria en donde existe la variable a copiar. Por lo que en el caso de las listas tendriamos 2 nombres (variables) que apuntan al mismo objeto:"
   ]
  },
  {
   "cell_type": "code",
   "execution_count": 2,
   "id": "d6590aac",
   "metadata": {},
   "outputs": [
    {
     "name": "stdout",
     "output_type": "stream",
     "text": [
      "Original: [-5, 2, 3] \n",
      "New: [-5, 2, 3]\n"
     ]
    }
   ],
   "source": [
    "list_original = [1, 2, 3]\n",
    "list_new = list_original\n",
    "list_original[0] = -5\n",
    "print('Original:', list_original, '\\nNew:', list_new)"
   ]
  },
  {
   "cell_type": "markdown",
   "id": "f7e650be",
   "metadata": {},
   "source": [
    "Para crear una copia (un objeto diferente al original) basta con usar slicing:"
   ]
  },
  {
   "cell_type": "code",
   "execution_count": 3,
   "id": "42bfe354",
   "metadata": {},
   "outputs": [
    {
     "name": "stdout",
     "output_type": "stream",
     "text": [
      "Original: [-5, 2, 3] \n",
      "New: [1, 2, 3]\n"
     ]
    }
   ],
   "source": [
    "list_original = [1, 2, 3]\n",
    "list_new = list_original[:]\n",
    "list_original[0] = -5\n",
    "print('Original:', list_original, '\\nNew:', list_new)"
   ]
  },
  {
   "cell_type": "markdown",
   "id": "f7d7a14d",
   "metadata": {},
   "source": [
    "## List comprehension"
   ]
  },
  {
   "cell_type": "code",
   "execution_count": 4,
   "id": "79e0c177",
   "metadata": {},
   "outputs": [
    {
     "name": "stdout",
     "output_type": "stream",
     "text": [
      "[1, 2, 4, 5, 7, 8, 10, 11, 13, 14, 16, 17, 19, 20, 22, 23, 25, 26, 28, 29, 31, 32, 34, 35, 37, 38, 40, 41, 43, 44, 46, 47, 49, 50, 52, 53, 55, 56, 58, 59, 61, 62, 64, 65, 67, 68, 70, 71, 73, 74, 76, 77, 79, 80, 82, 83, 85, 86, 88, 89, 91, 92, 94, 95, 97, 98, 100]\n"
     ]
    }
   ],
   "source": [
    "numbers = []\n",
    "for i in range(1, 101):\n",
    "    if i % 3 != 0:\n",
    "        numbers.append(i)\n",
    "print(numbers)"
   ]
  },
  {
   "cell_type": "markdown",
   "id": "f0544a00",
   "metadata": {},
   "source": [
    "Podemos pensar una list comprehension como una lista que se crea al vuelo:"
   ]
  },
  {
   "cell_type": "code",
   "execution_count": 5,
   "id": "d8c12908",
   "metadata": {},
   "outputs": [
    {
     "name": "stdout",
     "output_type": "stream",
     "text": [
      "[1, 2, 4, 5, 7, 8, 10, 11, 13, 14, 16, 17, 19, 20, 22, 23, 25, 26, 28, 29, 31, 32, 34, 35, 37, 38, 40, 41, 43, 44, 46, 47, 49, 50, 52, 53, 55, 56, 58, 59, 61, 62, 64, 65, 67, 68, 70, 71, 73, 74, 76, 77, 79, 80, 82, 83, 85, 86, 88, 89, 91, 92, 94, 95, 97, 98, 100]\n"
     ]
    }
   ],
   "source": [
    "numbers = [i for i in range(1, 101) if i % 3 != 0]\n",
    "print(numbers)"
   ]
  },
  {
   "cell_type": "markdown",
   "id": "0f71b5d4",
   "metadata": {},
   "source": [
    "## Listas anidadas"
   ]
  },
  {
   "cell_type": "code",
   "execution_count": 6,
   "id": "8f093753",
   "metadata": {},
   "outputs": [
    {
     "data": {
      "text/plain": [
       "'A2'"
      ]
     },
     "execution_count": 6,
     "metadata": {},
     "output_type": "execute_result"
    }
   ],
   "source": [
    "cells = [['A1', 'A2', 'A3'], ['B1', 'B2', 'B3']]\n",
    "cells[0][1]"
   ]
  },
  {
   "cell_type": "code",
   "execution_count": 7,
   "id": "3255be04",
   "metadata": {},
   "outputs": [
    {
     "name": "stdout",
     "output_type": "stream",
     "text": [
      "[[1, 2, 3, 4, 5], [1, 2, 3, 4, 5], [1, 2, 3, 4, 5], [1, 2, 3, 4, 5]]\n"
     ]
    }
   ],
   "source": [
    "# Lista anidada tipo matriz usando list comprehension\n",
    "#1 2 3 4 5\n",
    "#1 2 3 4 5\n",
    "#1 2 3 4 5\n",
    "#1 2 3 4 5\n",
    "\n",
    "table = [[i for i in range(1, 6)] for j in range(4)]\n",
    "print(table)"
   ]
  },
  {
   "cell_type": "markdown",
   "id": "23712d4d",
   "metadata": {},
   "source": [
    "## Tuplas"
   ]
  },
  {
   "cell_type": "code",
   "execution_count": 1,
   "id": "e28dd908",
   "metadata": {},
   "outputs": [
    {
     "name": "stdout",
     "output_type": "stream",
     "text": [
      "(1, 2, 3)\n",
      "(1,)\n",
      "(1, 2, 3, 4, 5)\n"
     ]
    }
   ],
   "source": [
    "# Para definir una tupla, se usan paréntesis, aunque no es obligatorio\n",
    "tupla = (1, 2, 3)\n",
    "print(tupla)\n",
    "tupla = 1,\n",
    "print(tupla)\n",
    "tupla = 1, 2, 3, 4, 5\n",
    "print(tupla)"
   ]
  },
  {
   "cell_type": "code",
   "execution_count": null,
   "id": "71e6b261",
   "metadata": {},
   "outputs": [
    {
     "ename": "AttributeError",
     "evalue": "'tuple' object has no attribute 'append'",
     "output_type": "error",
     "traceback": [
      "\u001b[0;31m---------------------------------------------------------------------------\u001b[0m",
      "\u001b[0;31mAttributeError\u001b[0m                            Traceback (most recent call last)",
      "Cell \u001b[0;32mIn[2], line 3\u001b[0m\n\u001b[1;32m      1\u001b[0m \u001b[38;5;66;03m# Las tuplas son inmutables, no se pueden modificar una vez creadas\u001b[39;00m\n\u001b[1;32m      2\u001b[0m user_data \u001b[38;5;241m=\u001b[39m (\u001b[38;5;124m'\u001b[39m\u001b[38;5;124mKatya\u001b[39m\u001b[38;5;124m'\u001b[39m, \u001b[38;5;124m'\u001b[39m\u001b[38;5;124mRussian\u001b[39m\u001b[38;5;124m'\u001b[39m, \u001b[38;5;241m1980\u001b[39m)\n\u001b[0;32m----> 3\u001b[0m user_data\u001b[38;5;241m.\u001b[39mappend(\u001b[38;5;124m'\u001b[39m\u001b[38;5;124mteacher\u001b[39m\u001b[38;5;124m'\u001b[39m)\n",
      "\u001b[0;31mAttributeError\u001b[0m: 'tuple' object has no attribute 'append'"
     ]
    }
   ],
   "source": [
    "# Las tuplas son inmutables, no se pueden modificar una vez creadas\n",
    "user_data = ('Katya', 'Russian', 1980)\n",
    "user_data.append('teacher')\n",
    "# Esto generará un error porque las tuplas son inmutables"
   ]
  },
  {
   "cell_type": "code",
   "execution_count": null,
   "id": "597789a8",
   "metadata": {},
   "outputs": [
    {
     "ename": "TypeError",
     "evalue": "'tuple' object doesn't support item deletion",
     "output_type": "error",
     "traceback": [
      "\u001b[0;31m---------------------------------------------------------------------------\u001b[0m",
      "\u001b[0;31mTypeError\u001b[0m                                 Traceback (most recent call last)",
      "Cell \u001b[0;32mIn[3], line 1\u001b[0m\n\u001b[0;32m----> 1\u001b[0m \u001b[38;5;28;01mdel\u001b[39;00m user_data[\u001b[38;5;241m0\u001b[39m]\n",
      "\u001b[0;31mTypeError\u001b[0m: 'tuple' object doesn't support item deletion"
     ]
    }
   ],
   "source": [
    "del user_data[0]\n",
    "# Esto generará un error porque las tuplas son inmutables"
   ]
  },
  {
   "cell_type": "code",
   "execution_count": null,
   "id": "ee0990f8",
   "metadata": {},
   "outputs": [
    {
     "ename": "TypeError",
     "evalue": "'tuple' object does not support item assignment",
     "output_type": "error",
     "traceback": [
      "\u001b[0;31m---------------------------------------------------------------------------\u001b[0m",
      "\u001b[0;31mTypeError\u001b[0m                                 Traceback (most recent call last)",
      "Cell \u001b[0;32mIn[4], line 1\u001b[0m\n\u001b[0;32m----> 1\u001b[0m user_data[\u001b[38;5;241m0\u001b[39m] \u001b[38;5;241m=\u001b[39m \u001b[38;5;124m'\u001b[39m\u001b[38;5;124mKaterina\u001b[39m\u001b[38;5;124m'\u001b[39m\n",
      "\u001b[0;31mTypeError\u001b[0m: 'tuple' object does not support item assignment"
     ]
    }
   ],
   "source": [
    "user_data[0] = 'Katerina'\n",
    "# Esto generará un error porque las tuplas son inmutables"
   ]
  },
  {
   "cell_type": "code",
   "execution_count": null,
   "id": "6a819766",
   "metadata": {},
   "outputs": [],
   "source": [
    "# Cuando anteriormente intercambiamos valores dentro de una lista, lo hicimos con una tupla\n",
    "first = 5\n",
    "second = 7\n",
    "first, second = second, first"
   ]
  },
  {
   "cell_type": "markdown",
   "id": "b224a043",
   "metadata": {},
   "source": [
    "En general se recomienda usar listas cuando los valores a guardar son del mismo tipo.\n",
    "nombres = ['Jose', 'Juan', 'Pedro'].\n",
    "\n",
    "Para las tuplas se recomienda usar valores que tienen una relación entre sí, pueden ser de distinto tipo:\n",
    "('Juan', 'juan@correo.com', 30, 1.78)."
   ]
  },
  {
   "cell_type": "markdown",
   "id": "14d2b6e6",
   "metadata": {},
   "source": [
    "## Listas y tuplas"
   ]
  },
  {
   "cell_type": "code",
   "execution_count": null,
   "id": "b609e1d0",
   "metadata": {},
   "outputs": [
    {
     "name": "stdout",
     "output_type": "stream",
     "text": [
      "City: London, Country: UK, Population: 8.98 million\n",
      "City: Canberra, Country: Australia, Population: 0.4 million\n",
      "City: Algiers, Country: Algeria, Population: 3.9 million\n"
     ]
    }
   ],
   "source": [
    "# Usando tuplas dentro de una lista\n",
    "city_1 = ('London', 'UK', 8.98)\n",
    "city_2 = ('Canberra', 'Australia', 0.4)\n",
    "city_3 = ('Algiers', 'Algeria', 3.9)\n",
    "\n",
    "capitals = [city_1, city_2, city_3]\n",
    "\n",
    "for city in capitals:\n",
    "    print(f'City: {city[0]}, Country: {city[1]}, Population: {city[2]} million')"
   ]
  },
  {
   "cell_type": "code",
   "execution_count": 7,
   "id": "d006eacb",
   "metadata": {},
   "outputs": [
    {
     "name": "stdout",
     "output_type": "stream",
     "text": [
      "('John', 'American', 1964, [77.0, 78.2, 77.5])\n"
     ]
    }
   ],
   "source": [
    "# Usando listas dentro de una tupla\n",
    "user_data = ('John', 'American', 1964, [77.0, 78.2, 77.5])\n",
    "print(user_data)"
   ]
  },
  {
   "cell_type": "code",
   "execution_count": 8,
   "id": "d9639275",
   "metadata": {},
   "outputs": [
    {
     "name": "stdout",
     "output_type": "stream",
     "text": [
      "('John', 'American', 1964, [77.0, 78.2, 77.5, 79.0])\n"
     ]
    }
   ],
   "source": [
    "# Podemos modificar la lista dentro de la tupla\n",
    "user_data[3].append(79.0)\n",
    "print(user_data)"
   ]
  },
  {
   "cell_type": "markdown",
   "id": "80aeb570",
   "metadata": {},
   "source": [
    "## Diccionarios"
   ]
  },
  {
   "cell_type": "code",
   "execution_count": null,
   "id": "aa03569b",
   "metadata": {},
   "outputs": [
    {
     "name": "stdout",
     "output_type": "stream",
     "text": [
      "Naomi Osaka\n"
     ]
    }
   ],
   "source": [
    "# Un diccionario puede tener como clave una tupla\n",
    "tennis_ranking = {\n",
    "    (1,2): 'Ashleigh Barty',\n",
    "    (2,2): 'Naomi Osaka',\n",
    "    (3,2): 'Simona Halep'\n",
    "    }\n",
    "\n",
    "print(tennis_ranking[(2,2)])"
   ]
  },
  {
   "cell_type": "code",
   "execution_count": 10,
   "id": "3687e5ae",
   "metadata": {},
   "outputs": [
    {
     "ename": "TypeError",
     "evalue": "unhashable type: 'list'",
     "output_type": "error",
     "traceback": [
      "\u001b[0;31m---------------------------------------------------------------------------\u001b[0m",
      "\u001b[0;31mTypeError\u001b[0m                                 Traceback (most recent call last)",
      "Cell \u001b[0;32mIn[10], line 2\u001b[0m\n\u001b[1;32m      1\u001b[0m \u001b[38;5;66;03m# Pero no pueden tener como clave una lista\u001b[39;00m\n\u001b[0;32m----> 2\u001b[0m tennis_ranking \u001b[38;5;241m=\u001b[39m {\n\u001b[1;32m      3\u001b[0m     [\u001b[38;5;241m1\u001b[39m,\u001b[38;5;241m2\u001b[39m]: \u001b[38;5;124m'\u001b[39m\u001b[38;5;124mAshleigh Barty\u001b[39m\u001b[38;5;124m'\u001b[39m,\n\u001b[1;32m      4\u001b[0m     [\u001b[38;5;241m2\u001b[39m,\u001b[38;5;241m2\u001b[39m]: \u001b[38;5;124m'\u001b[39m\u001b[38;5;124mNaomi Osaka\u001b[39m\u001b[38;5;124m'\u001b[39m,\n\u001b[1;32m      5\u001b[0m     [\u001b[38;5;241m3\u001b[39m,\u001b[38;5;241m2\u001b[39m]: \u001b[38;5;124m'\u001b[39m\u001b[38;5;124mSimona Halep\u001b[39m\u001b[38;5;124m'\u001b[39m\n\u001b[1;32m      6\u001b[0m     }\n",
      "\u001b[0;31mTypeError\u001b[0m: unhashable type: 'list'"
     ]
    }
   ],
   "source": [
    "# Pero no pueden tener como clave una lista\n",
    "tennis_ranking = {\n",
    "    [1,2]: 'Ashleigh Barty',\n",
    "    [2,2]: 'Naomi Osaka',\n",
    "    [3,2]: 'Simona Halep'\n",
    "    }\n",
    "# Esto generará un error porque las listas son mutables y no se pueden usar como claves en un diccionario"
   ]
  },
  {
   "cell_type": "markdown",
   "id": "751e9d07",
   "metadata": {},
   "source": [
    "Para los valores dentro de un diccionario no hay restricciones, es decir pueden ser cualquier tipo de dato o colección."
   ]
  },
  {
   "cell_type": "markdown",
   "id": "76bcf067",
   "metadata": {},
   "source": [
    "## Operaciones con diccionarios"
   ]
  },
  {
   "cell_type": "code",
   "execution_count": 1,
   "id": "fa139b74",
   "metadata": {},
   "outputs": [
    {
     "name": "stdout",
     "output_type": "stream",
     "text": [
      "{'John': 95, 'Alice': 85, 'Bob': 90}\n"
     ]
    }
   ],
   "source": [
    "grades = {}\n",
    "\n",
    "# Para agregar nuevos elementos al diccionario\n",
    "grades['John'] = 95\n",
    "grades['Alice'] = 85\n",
    "grades['Bob'] = 90\n",
    "print(grades)"
   ]
  },
  {
   "cell_type": "code",
   "execution_count": 2,
   "id": "618567cb",
   "metadata": {},
   "outputs": [
    {
     "name": "stdout",
     "output_type": "stream",
     "text": [
      "{'John': 95, 'Alice': 50, 'Bob': 90}\n",
      "{'John': 95, 'Alice': 29, 'Bob': 90}\n"
     ]
    }
   ],
   "source": [
    "# Para actualizar un elemento existente\n",
    "grades['Alice'] = 50\n",
    "print(grades)\n",
    "\n",
    "# Otra forma es estar usando el método update\n",
    "grades.update({'Alice': 29})\n",
    "print(grades)"
   ]
  },
  {
   "cell_type": "code",
   "execution_count": 3,
   "id": "2e2bdadf",
   "metadata": {},
   "outputs": [
    {
     "name": "stdout",
     "output_type": "stream",
     "text": [
      "John got: 95\n",
      "{'John': 95, 'Alice': 29}\n"
     ]
    }
   ],
   "source": [
    "if 'John' in grades:\n",
    "    print('John got:', grades['John'])\n",
    "\n",
    "del grades['Bob']\n",
    "print(grades)"
   ]
  },
  {
   "cell_type": "code",
   "execution_count": null,
   "id": "16a2e484",
   "metadata": {},
   "outputs": [
    {
     "name": "stdout",
     "output_type": "stream",
     "text": [
      "John\n",
      "Alice\n",
      "John\n",
      "Alice\n"
     ]
    }
   ],
   "source": [
    "for el in grades:\n",
    "    print(el)\n",
    "\n",
    "# Funnciona igual que:\n",
    "for el in grades.keys():\n",
    "    print(el)"
   ]
  },
  {
   "cell_type": "code",
   "execution_count": null,
   "id": "21d55f28",
   "metadata": {},
   "outputs": [
    {
     "name": "stdout",
     "output_type": "stream",
     "text": [
      "95\n",
      "29\n"
     ]
    }
   ],
   "source": [
    "# Imprime solo los valores\n",
    "for el in grades.values():\n",
    "    print(el)"
   ]
  },
  {
   "cell_type": "code",
   "execution_count": 8,
   "id": "8e930729",
   "metadata": {},
   "outputs": [
    {
     "name": "stdout",
     "output_type": "stream",
     "text": [
      "John got 95\n",
      "Alice got 29\n"
     ]
    }
   ],
   "source": [
    "# Imprimir las claves y los valores\n",
    "for person, grade in grades.items():\n",
    "    print(person, 'got', grade)"
   ]
  },
  {
   "cell_type": "markdown",
   "id": "a3ed97b1",
   "metadata": {},
   "source": [
    "## Quiz"
   ]
  },
  {
   "cell_type": "code",
   "execution_count": 9,
   "id": "416b0a2c",
   "metadata": {},
   "outputs": [
    {
     "name": "stdout",
     "output_type": "stream",
     "text": [
      "[[0, 1, 2], [0, 1, 2], [0, 1, 2], [0, 1, 2]]\n"
     ]
    }
   ],
   "source": [
    "my_numbers = [[i for i in range(3)] for j in range(4)]\n",
    "print(my_numbers)"
   ]
  },
  {
   "cell_type": "code",
   "execution_count": 11,
   "id": "d48f46d4",
   "metadata": {},
   "outputs": [
    {
     "name": "stdout",
     "output_type": "stream",
     "text": [
      "[[3, 2], [3, 2], [3, 2], [3, 2], [3, 2]]\n",
      "25.0\n"
     ]
    }
   ],
   "source": [
    "values = [[3 - x for x in range(2)] for y in range(5)]\n",
    "print(values)\n",
    "\n",
    "sum = 0.0\n",
    "for row in values:\n",
    "    for cell in row:\n",
    "        sum += cell\n",
    "\n",
    "print(sum)"
   ]
  },
  {
   "cell_type": "code",
   "execution_count": 12,
   "id": "11f64a41",
   "metadata": {},
   "outputs": [
    {
     "name": "stdout",
     "output_type": "stream",
     "text": [
      "10\n"
     ]
    }
   ],
   "source": [
    "my_list = [0, 1, 2] * 3 + [0]\n",
    "print(len(my_list))"
   ]
  },
  {
   "cell_type": "code",
   "execution_count": 14,
   "id": "ccd42153",
   "metadata": {},
   "outputs": [
    {
     "name": "stdout",
     "output_type": "stream",
     "text": [
      "(2, 3)\n",
      "3\n"
     ]
    }
   ],
   "source": [
    "vals = (1, 2, 3, 4)\n",
    "vals = vals[1:-1]\n",
    "print(vals)\n",
    "vals = vals[1]\n",
    "print(vals)"
   ]
  },
  {
   "cell_type": "markdown",
   "id": "63f474f4",
   "metadata": {},
   "source": [
    "# Módulo 5"
   ]
  },
  {
   "cell_type": "markdown",
   "id": "7f963423",
   "metadata": {},
   "source": [
    "## Funciones\n",
    "El valor del argumento se asgina al parámetro de la función.  \n",
    "Por lo regular las funciones en casi todos los lenguajes de programación funcionan con argumentos posicionales, es decir que los parámetros tiene un orden.  \n",
    "Sin embargo Python también cuenta con argumentos por nombre, donde basta con indicar como se llama el parámetro, sin necesariamente respetar el orden.\n",
    "\n",
    "Los argumentos posicionales siempre deben ir antes que los argumentos por nombre, de lo contrario Python no sabe qué valor del argumento va cada parámetro:"
   ]
  },
  {
   "cell_type": "code",
   "execution_count": 15,
   "id": "2c07bb6d",
   "metadata": {},
   "outputs": [
    {
     "name": "stdout",
     "output_type": "stream",
     "text": [
      "Number of a is 3\n"
     ]
    }
   ],
   "source": [
    "def print_letter_count(text, letter='a'): # función con un parámetro por defecto\n",
    "    counter = 0\n",
    "    for char in text:\n",
    "        if char == letter:\n",
    "            counter += 1\n",
    "    print('Number of', letter, 'is', counter)\n",
    "\n",
    "print_letter_count('How many letters a are here?')"
   ]
  },
  {
   "cell_type": "code",
   "execution_count": 17,
   "id": "d61d30a6",
   "metadata": {},
   "outputs": [
    {
     "name": "stdout",
     "output_type": "stream",
     "text": [
      "Number of e is 3\n"
     ]
    }
   ],
   "source": [
    "print_letter_count('Search here', 'e')"
   ]
  },
  {
   "cell_type": "code",
   "execution_count": 19,
   "id": "e0e90124",
   "metadata": {},
   "outputs": [
    {
     "ename": "SyntaxError",
     "evalue": "positional argument follows keyword argument (1894199955.py, line 2)",
     "output_type": "error",
     "traceback": [
      "\u001b[0;36m  Cell \u001b[0;32mIn[19], line 2\u001b[0;36m\u001b[0m\n\u001b[0;31m    print_letter_count(letter = 'e', 'Search here')  # Esto generará un error\u001b[0m\n\u001b[0m                                                  ^\u001b[0m\n\u001b[0;31mSyntaxError\u001b[0m\u001b[0;31m:\u001b[0m positional argument follows keyword argument\n"
     ]
    }
   ],
   "source": [
    "# Poniendo primero el argumento por nombre marcará un error\n",
    "print_letter_count(letter = 'e', 'Search here')  # Esto generará un error"
   ]
  },
  {
   "cell_type": "markdown",
   "id": "6c82cec6",
   "metadata": {},
   "source": [
    "## Name scopes"
   ]
  },
  {
   "cell_type": "code",
   "execution_count": 1,
   "id": "1e5d1e90",
   "metadata": {},
   "outputs": [
    {
     "name": "stdout",
     "output_type": "stream",
     "text": [
      "Surprise!\n",
      "New Surprise!\n",
      "Surprise!\n"
     ]
    }
   ],
   "source": [
    "# Shadowing\n",
    "# La variable local hace sombre a la variable global\n",
    "# Durante la ejecución de la función, se usará la variable local / variable temporal\n",
    "\n",
    "def show_truth():\n",
    "    mysterious_var = 'New Surprise!'\n",
    "    print(mysterious_var)\n",
    "\n",
    "mysterious_var = 'Surprise!'\n",
    "print(mysterious_var)\n",
    "show_truth()\n",
    "print(mysterious_var)"
   ]
  },
  {
   "cell_type": "code",
   "execution_count": 2,
   "id": "c3cb4d97",
   "metadata": {},
   "outputs": [
    {
     "name": "stdout",
     "output_type": "stream",
     "text": [
      "Surprise!\n",
      "New Surprise!\n",
      "New Surprise!\n"
     ]
    }
   ],
   "source": [
    "# Para utilizar modificar la variable global se debe usar la palabra clave global\n",
    "# Con esto se indica no hacer sombra a la variable global. No crear la variable temporal\n",
    "\n",
    "def show_truth():\n",
    "    global mysterious_var\n",
    "    mysterious_var = 'New Surprise!'\n",
    "    print(mysterious_var)\n",
    "\n",
    "mysterious_var = 'Surprise!'\n",
    "print(mysterious_var)\n",
    "show_truth()\n",
    "print(mysterious_var)"
   ]
  },
  {
   "cell_type": "code",
   "execution_count": 3,
   "id": "57b8d5aa",
   "metadata": {},
   "outputs": [
    {
     "name": "stdout",
     "output_type": "stream",
     "text": [
      "['Surprise!']\n",
      "['New Surprise!']\n",
      "['Surprise!']\n"
     ]
    }
   ],
   "source": [
    "# Listas (lo mismo aplica para diccionarios)\n",
    "# Si asignas una nueva lista a la misma variable en una función, el shadowing funciona correctamente\n",
    "\n",
    "def show_truth():\n",
    "    mysterious_var = ['New Surprise!']\n",
    "    print(mysterious_var)\n",
    "\n",
    "mysterious_var = ['Surprise!']\n",
    "print(mysterious_var)\n",
    "show_truth()\n",
    "print(mysterious_var)"
   ]
  },
  {
   "cell_type": "code",
   "execution_count": 5,
   "id": "2791a5c9",
   "metadata": {},
   "outputs": [
    {
     "name": "stdout",
     "output_type": "stream",
     "text": [
      "['Surprise!']\n",
      "['Surprise!', 'New Surprise!']\n",
      "['Surprise!', 'Changed Surprise!']\n",
      "['Surprise!', 'Changed Surprise!']\n"
     ]
    }
   ],
   "source": [
    "# Pero si modificas la lista con corchetes o un método, entonces la variable global también se verá afectada\n",
    "\n",
    "def show_truth():\n",
    "    mysterious_var.append('New Surprise!')\n",
    "    print(mysterious_var)\n",
    "    mysterious_var[1] = 'Changed Surprise!'\n",
    "    print(mysterious_var)\n",
    "\n",
    "mysterious_var = ['Surprise!']\n",
    "print(mysterious_var)\n",
    "show_truth()\n",
    "print(mysterious_var)"
   ]
  },
  {
   "cell_type": "markdown",
   "id": "b547257c",
   "metadata": {},
   "source": [
    "## None value"
   ]
  },
  {
   "cell_type": "markdown",
   "id": "61b6cdee",
   "metadata": {},
   "source": [
    "None es un valor especial de Python. Es un valor devuelto implícitamente por funciones que no devuelven nada significativo (por ejemplo print)."
   ]
  },
  {
   "cell_type": "code",
   "execution_count": 6,
   "id": "086e62f7",
   "metadata": {},
   "outputs": [
    {
     "name": "stdout",
     "output_type": "stream",
     "text": [
      "yes\n",
      "it does\n",
      "---\n",
      "hello!\n",
      "None\n"
     ]
    }
   ],
   "source": [
    "x = None\n",
    "if x is None:\n",
    "    print('yes')\n",
    "if x == None:\n",
    "    print('it does')\n",
    "\n",
    "print('---')\n",
    "\n",
    "def greet():\n",
    "    print('hello!')\n",
    "\n",
    "x = greet()\n",
    "print(x)"
   ]
  },
  {
   "cell_type": "markdown",
   "id": "a947b69e",
   "metadata": {},
   "source": [
    "## Return"
   ]
  },
  {
   "cell_type": "markdown",
   "id": "9ebc93e6",
   "metadata": {},
   "source": [
    "Return se puede usar para salir de una función."
   ]
  },
  {
   "cell_type": "code",
   "execution_count": 8,
   "id": "9d073e4a",
   "metadata": {},
   "outputs": [],
   "source": [
    "def is_first_last_equal(number_list):\n",
    "    if len(number_list) == 0:\n",
    "        return\n",
    "    if (number_list[0] == number_list[-1]):\n",
    "        return True\n",
    "    else:\n",
    "        return False\n"
   ]
  },
  {
   "cell_type": "code",
   "execution_count": 9,
   "id": "907ff79c",
   "metadata": {},
   "outputs": [
    {
     "name": "stdout",
     "output_type": "stream",
     "text": [
      "True\n",
      "False\n",
      "None\n"
     ]
    }
   ],
   "source": [
    "print(is_first_last_equal([10, 20, 30, 40, 10]))\n",
    "print(is_first_last_equal([10, 20, 30, 40, 50]))\n",
    "print(is_first_last_equal([]))"
   ]
  }
 ],
 "metadata": {
  "kernelspec": {
   "display_name": "base",
   "language": "python",
   "name": "python3"
  },
  "language_info": {
   "codemirror_mode": {
    "name": "ipython",
    "version": 3
   },
   "file_extension": ".py",
   "mimetype": "text/x-python",
   "name": "python",
   "nbconvert_exporter": "python",
   "pygments_lexer": "ipython3",
   "version": "3.11.5"
  }
 },
 "nbformat": 4,
 "nbformat_minor": 5
}

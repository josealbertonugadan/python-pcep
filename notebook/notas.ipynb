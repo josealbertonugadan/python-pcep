{
 "cells": [
  {
   "cell_type": "markdown",
   "id": "4ce7cf6a",
   "metadata": {},
   "source": [
    "# Módulo 1"
   ]
  },
  {
   "cell_type": "markdown",
   "id": "e5aea588",
   "metadata": {},
   "source": [
    "## Cadenas"
   ]
  },
  {
   "cell_type": "code",
   "execution_count": null,
   "id": "545e7809",
   "metadata": {},
   "outputs": [
    {
     "name": "stdout",
     "output_type": "stream",
     "text": [
      "Hello! I'm from Mexico City\n"
     ]
    }
   ],
   "source": [
    "# Buena práctica: usar comillas simples en lugar de dobles\n",
    "print('Hello! I\\'m from Mexico City')"
   ]
  },
  {
   "cell_type": "code",
   "execution_count": null,
   "id": "ee11ab8a",
   "metadata": {},
   "outputs": [
    {
     "name": "stdout",
     "output_type": "stream",
     "text": [
      "Hello!, I'm from Mexico City\n"
     ]
    }
   ],
   "source": [
    "# No hacer:\n",
    "print(\"Hello!, I'm from Mexico City\")"
   ]
  },
  {
   "cell_type": "markdown",
   "id": "f7423779",
   "metadata": {},
   "source": [
    "## Enteros"
   ]
  },
  {
   "cell_type": "code",
   "execution_count": 3,
   "id": "954ff628",
   "metadata": {},
   "outputs": [
    {
     "name": "stdout",
     "output_type": "stream",
     "text": [
      "12000301\n",
      "12000301\n"
     ]
    }
   ],
   "source": [
    "# A partir de Python 3 se pueden usar guiones bajos en números para mejor legibilidad\n",
    "num1 = 12000300\n",
    "num2 = 12_000_300\n",
    "print(num1 + 1)\n",
    "print(num2 + 1)"
   ]
  },
  {
   "cell_type": "markdown",
   "id": "09d05223",
   "metadata": {},
   "source": [
    "Los nombres de las variables deben comenzar únicamente con letras o guiones bajo."
   ]
  },
  {
   "cell_type": "markdown",
   "id": "94ea0df2",
   "metadata": {},
   "source": [
    "## Base octal y hexadecimal"
   ]
  },
  {
   "cell_type": "code",
   "execution_count": null,
   "id": "3938f20f",
   "metadata": {},
   "outputs": [
    {
     "name": "stdout",
     "output_type": "stream",
     "text": [
      "83\n"
     ]
    }
   ],
   "source": [
    "# Octal: empiezan con 0O or 0o\n",
    "print(0o123)"
   ]
  },
  {
   "cell_type": "code",
   "execution_count": null,
   "id": "5b28a56e",
   "metadata": {},
   "outputs": [
    {
     "name": "stdout",
     "output_type": "stream",
     "text": [
      "291\n"
     ]
    }
   ],
   "source": [
    "# Hexadecimal: empiezan con 0X or 0x\n",
    "print(0x123)"
   ]
  },
  {
   "cell_type": "markdown",
   "id": "7cf4eeac",
   "metadata": {},
   "source": [
    "# Módulo 2"
   ]
  },
  {
   "cell_type": "markdown",
   "id": "09ffced2",
   "metadata": {},
   "source": [
    "## Flotantes"
   ]
  },
  {
   "cell_type": "code",
   "execution_count": 1,
   "id": "030e322f",
   "metadata": {},
   "outputs": [
    {
     "name": "stdout",
     "output_type": "stream",
     "text": [
      "0.1\n",
      "0.30000000000000004\n"
     ]
    }
   ],
   "source": [
    "# Los flotantes son representaciones aproximadas\n",
    "print(0.1)\n",
    "print(0.1 + 0.1 + 0.1)"
   ]
  },
  {
   "cell_type": "markdown",
   "id": "b0669059",
   "metadata": {},
   "source": [
    "## Operador exponente"
   ]
  },
  {
   "cell_type": "code",
   "execution_count": 2,
   "id": "e4ec3d68",
   "metadata": {},
   "outputs": [
    {
     "name": "stdout",
     "output_type": "stream",
     "text": [
      "256\n",
      "64\n",
      "256\n"
     ]
    }
   ],
   "source": [
    "# El operador exponencial funciona de derecha a izquierda\n",
    "print(2 ** 2 ** 3)\n",
    "print((2 ** 2) ** 3)\n",
    "print(2 ** (2 ** 3))"
   ]
  },
  {
   "cell_type": "markdown",
   "id": "c1ce2965",
   "metadata": {},
   "source": [
    "Todos los demás operadores funcionan de izquierda a derecha."
   ]
  },
  {
   "cell_type": "markdown",
   "id": "15dbc697",
   "metadata": {},
   "source": [
    "## Operadores de bits"
   ]
  },
  {
   "cell_type": "code",
   "execution_count": 7,
   "id": "849eb3ab",
   "metadata": {},
   "outputs": [
    {
     "name": "stdout",
     "output_type": "stream",
     "text": [
      "0\n",
      "1\n",
      "1\n"
     ]
    }
   ],
   "source": [
    "first_bit = 0\n",
    "second_bit = 1\n",
    "print(first_bit & second_bit)  # AND\n",
    "print(first_bit | second_bit)  # OR\n",
    "print(first_bit ^ second_bit)  # XOR (uno u otro, no ambos)"
   ]
  },
  {
   "cell_type": "code",
   "execution_count": null,
   "id": "b1c0fd24",
   "metadata": {},
   "outputs": [
    {
     "name": "stdout",
     "output_type": "stream",
     "text": [
      "-1\n",
      "-2\n"
     ]
    }
   ],
   "source": [
    "# ~ es el operador NOT:\n",
    "# ~x = - x - 1\n",
    "print(~first_bit)  # NOT\n",
    "print(~second_bit)  # NOT"
   ]
  },
  {
   "cell_type": "code",
   "execution_count": null,
   "id": "22e354a1",
   "metadata": {},
   "outputs": [
    {
     "name": "stdout",
     "output_type": "stream",
     "text": [
      "Multiplicado/dividido por 2\n",
      "48\n",
      "12\n",
      "Multiplicado/dividido por 4\n",
      "96\n",
      "6\n",
      "Multiplicado/dividido por 8\n",
      "192\n",
      "3\n",
      "Multiplicado/dividido por 16\n",
      "384\n",
      "1\n",
      "Multiplicado/dividido por 32\n",
      "768\n",
      "0\n"
     ]
    }
   ],
   "source": [
    "# Desplazamiento a la izquierda y a la derecha\n",
    "numero_decimal = 24\n",
    "print('Multiplicado/dividido por 2')\n",
    "print(numero_decimal << 1)  # Desplazamiento a la izquierda (multiplicación por 2)\n",
    "print(numero_decimal >> 1)  # Desplazamiento a la derecha (división por 2)\n",
    "print('Multiplicado/dividido por 4')\n",
    "print(numero_decimal << 2)  # Desplazamiento a la izquierda (multiplicación por 4)\n",
    "print(numero_decimal >> 2)  # Desplazamiento a la derecha (división por 4)\n",
    "print('Multiplicado/dividido por 8')\n",
    "print(numero_decimal << 3)  # Desplazamiento a la izquierda (multiplicación por 8)\n",
    "print(numero_decimal >> 3)  # Desplazamiento a la derecha (división por 8)\n",
    "print('Multiplicado/dividido por 16')\n",
    "print(numero_decimal << 4)  # Desplazamiento a la izquierda (multiplicación por 16)\n",
    "print(numero_decimal >> 4)  # Desplazamiento a la derecha (división por 16)\n",
    "print('Multiplicado/dividido por 32')\n",
    "print(numero_decimal << 5)  # Desplazamiento a la izquierda (multiplicación por 32)\n",
    "print(numero_decimal >> 5)  # Desplazamiento a la derecha (división por 32)"
   ]
  },
  {
   "cell_type": "markdown",
   "id": "3073dd8c",
   "metadata": {},
   "source": [
    "# Módulo 3"
   ]
  },
  {
   "cell_type": "markdown",
   "id": "94318b67",
   "metadata": {},
   "source": [
    "## Operadores lógicos"
   ]
  },
  {
   "cell_type": "markdown",
   "id": "7a41e5f1",
   "metadata": {},
   "source": [
    "Prioridad de los operadores lógicos:\n",
    "1. not\n",
    "2. and\n",
    "3. or"
   ]
  },
  {
   "cell_type": "code",
   "execution_count": null,
   "id": "20d2e09b",
   "metadata": {},
   "outputs": [
    {
     "name": "stdout",
     "output_type": "stream",
     "text": [
      "You qualify!\n"
     ]
    }
   ],
   "source": [
    "user_age = int(input('What is your age? '))\n",
    "user_country = input('What is your country? ')\n",
    "\n",
    "# Se usa la barra invertida para continuar la línea\n",
    "if not user_country == 'Germany' and user_age < 25 or \\\n",
    "    user_country == 'Germany' and user_age < 23:\n",
    "    print('You qualify!')\n",
    "else:\n",
    "    print('You don\\'t qualify!')\n"
   ]
  },
  {
   "cell_type": "markdown",
   "id": "42a8a4ff",
   "metadata": {},
   "source": [
    "## Otras características de los ciclos"
   ]
  },
  {
   "cell_type": "markdown",
   "id": "4a43a99b",
   "metadata": {},
   "source": [
    "La sentencia else siempre se ejecuta (una vez) si se incluye como parte de un ciclo. Excepto si se usa break."
   ]
  },
  {
   "cell_type": "code",
   "execution_count": 3,
   "id": "3acd322a",
   "metadata": {},
   "outputs": [
    {
     "name": "stdout",
     "output_type": "stream",
     "text": [
      "else: 5\n"
     ]
    }
   ],
   "source": [
    "i = 5\n",
    "while i < 5:\n",
    "    print(i)\n",
    "    i += 1\n",
    "else:\n",
    "    print('else:', i)"
   ]
  },
  {
   "cell_type": "markdown",
   "id": "1d827db6",
   "metadata": {},
   "source": [
    "# Módulo 4"
   ]
  },
  {
   "cell_type": "markdown",
   "id": "88433a05",
   "metadata": {},
   "source": [
    "## Recorriendo listas"
   ]
  },
  {
   "cell_type": "code",
   "execution_count": 8,
   "id": "9bb7e091",
   "metadata": {},
   "outputs": [
    {
     "name": "stdout",
     "output_type": "stream",
     "text": [
      "[1, 'uno y medio', 2, 3, 4, 5, 'seis', 7]\n"
     ]
    }
   ],
   "source": [
    "lista = [1, 2, 3, 4, 5, 'seis']\n",
    "lista.append(7)\n",
    "lista.insert(1, 'uno y medio')\n",
    "print(lista)"
   ]
  },
  {
   "cell_type": "code",
   "execution_count": 10,
   "id": "636b2854",
   "metadata": {},
   "outputs": [
    {
     "name": "stdout",
     "output_type": "stream",
     "text": [
      "J o s e   A l b e r t o "
     ]
    }
   ],
   "source": [
    "nombre = 'Jose Alberto'\n",
    "for i in nombre:\n",
    "    print(i, end=' ')"
   ]
  },
  {
   "cell_type": "code",
   "execution_count": 11,
   "id": "7777d444",
   "metadata": {},
   "outputs": [
    {
     "name": "stdout",
     "output_type": "stream",
     "text": [
      "Current index: 0 | Current city: New York City\n",
      "Current index: 1 | Current city: Los Angeles\n",
      "Current index: 2 | Current city: Chicago\n",
      "Current index: 3 | Current city: Houston\n",
      "Current index: 4 | Current city: Phoenix\n"
     ]
    }
   ],
   "source": [
    "top_cities = ['New York City', 'Los Angeles', 'Chicago', 'Houston', 'Phoenix']\n",
    "for city_index in range(len(top_cities)):\n",
    "    print('Current index:', city_index, '| Current city:', top_cities[city_index], )"
   ]
  },
  {
   "cell_type": "markdown",
   "id": "4f92905c",
   "metadata": {},
   "source": [
    "## Cambiando valores"
   ]
  },
  {
   "cell_type": "code",
   "execution_count": 12,
   "id": "cc72ae45",
   "metadata": {},
   "outputs": [
    {
     "name": "stdout",
     "output_type": "stream",
     "text": [
      "Before swapping: 20 10\n",
      "After swapping: 10 20\n"
     ]
    }
   ],
   "source": [
    "first = input('Enter first number: ')\n",
    "second = input('Enter second number: ')\n",
    "print('Before swapping:', first, second)\n",
    "temporary = first\n",
    "first = second\n",
    "second = temporary\n",
    "print('After swapping:', first, second)"
   ]
  },
  {
   "cell_type": "code",
   "execution_count": 13,
   "id": "ae4c6686",
   "metadata": {},
   "outputs": [
    {
     "name": "stdout",
     "output_type": "stream",
     "text": [
      "Before swapping: 20 10\n",
      "After swapping: 10 20\n"
     ]
    }
   ],
   "source": [
    "# Otra forma más sencilla de intercambiar valores\n",
    "first = input('Enter first number: ')\n",
    "second = input('Enter second number: ')\n",
    "print('Before swapping:', first, second)\n",
    "first, second = second, first\n",
    "print('After swapping:', first, second)"
   ]
  },
  {
   "cell_type": "code",
   "execution_count": 14,
   "id": "1eadd132",
   "metadata": {},
   "outputs": [
    {
     "name": "stdout",
     "output_type": "stream",
     "text": [
      "['Phoenix', 'Los Angeles', 'Chicago', 'Houston', 'New York City']\n"
     ]
    }
   ],
   "source": [
    "# Intercambiando valores dentro de una lista\n",
    "top_cities = ['New York City', 'Los Angeles', 'Chicago', 'Houston', 'Phoenix']\n",
    "top_cities[0], top_cities[4] = top_cities[4], top_cities[0]\n",
    "print(top_cities)"
   ]
  },
  {
   "cell_type": "markdown",
   "id": "f718d739",
   "metadata": {},
   "source": [
    "## Usando un método vs una función"
   ]
  },
  {
   "cell_type": "code",
   "execution_count": 15,
   "id": "2100b571",
   "metadata": {},
   "outputs": [
    {
     "name": "stdout",
     "output_type": "stream",
     "text": [
      "['Chicago', 'Houston', 'Los Angeles', 'New York City', 'Phoenix']\n"
     ]
    }
   ],
   "source": [
    "# Usando el método sort se modifica el objeto original\n",
    "top_cities = ['New York City', 'Los Angeles', 'Chicago', 'Houston', 'Phoenix']\n",
    "top_cities.sort()\n",
    "print(top_cities)"
   ]
  },
  {
   "cell_type": "code",
   "execution_count": 16,
   "id": "1a99d549",
   "metadata": {},
   "outputs": [
    {
     "name": "stdout",
     "output_type": "stream",
     "text": [
      "['Chicago', 'Houston', 'Los Angeles', 'New York City', 'Phoenix']\n",
      "['New York City', 'Los Angeles', 'Chicago', 'Houston', 'Phoenix']\n"
     ]
    }
   ],
   "source": [
    "# Usando la función sorted no se modifica el objeto original\n",
    "top_cities = ['New York City', 'Los Angeles', 'Chicago', 'Houston', 'Phoenix']\n",
    "print(sorted(top_cities))\n",
    "print(top_cities)"
   ]
  },
  {
   "cell_type": "markdown",
   "id": "6c305701",
   "metadata": {},
   "source": [
    "## Copiando listas"
   ]
  },
  {
   "cell_type": "markdown",
   "id": "04f0a3ff",
   "metadata": {},
   "source": [
    "Para tipos de datos simples (como string, enteros, flotantes, etc.) al copiar un valor, la nueva variable toma el nombre (valor) de la variable existente y así se tienen 2 variables distintas con el mismo valor:"
   ]
  },
  {
   "cell_type": "code",
   "execution_count": 1,
   "id": "628d92fc",
   "metadata": {},
   "outputs": [
    {
     "name": "stdout",
     "output_type": "stream",
     "text": [
      "Daenerys Targaryen Jon Snow\n"
     ]
    }
   ],
   "source": [
    "name_original = 'Jon Snow'\n",
    "name_new = name_original\n",
    "name_original = 'Daenerys Targaryen'\n",
    "print(name_original, name_new)"
   ]
  },
  {
   "cell_type": "markdown",
   "id": "b42d998a",
   "metadata": {},
   "source": [
    "Sin embargo, para el caso de las listas no funciona de la misma manera. La nueva variable obtiene la referencia del lugar de la memoria en donde existe la variable a copiar. Por lo que en el caso de las listas tendriamos 2 nombres (variables) que apuntan al mismo objeto:"
   ]
  },
  {
   "cell_type": "code",
   "execution_count": 2,
   "id": "d6590aac",
   "metadata": {},
   "outputs": [
    {
     "name": "stdout",
     "output_type": "stream",
     "text": [
      "Original: [-5, 2, 3] \n",
      "New: [-5, 2, 3]\n"
     ]
    }
   ],
   "source": [
    "list_original = [1, 2, 3]\n",
    "list_new = list_original\n",
    "list_original[0] = -5\n",
    "print('Original:', list_original, '\\nNew:', list_new)"
   ]
  },
  {
   "cell_type": "markdown",
   "id": "f7e650be",
   "metadata": {},
   "source": [
    "Para crear una copia (un objeto diferente al original) basta con usar slicing:"
   ]
  },
  {
   "cell_type": "code",
   "execution_count": 3,
   "id": "42bfe354",
   "metadata": {},
   "outputs": [
    {
     "name": "stdout",
     "output_type": "stream",
     "text": [
      "Original: [-5, 2, 3] \n",
      "New: [1, 2, 3]\n"
     ]
    }
   ],
   "source": [
    "list_original = [1, 2, 3]\n",
    "list_new = list_original[:]\n",
    "list_original[0] = -5\n",
    "print('Original:', list_original, '\\nNew:', list_new)"
   ]
  }
 ],
 "metadata": {
  "kernelspec": {
   "display_name": "base",
   "language": "python",
   "name": "python3"
  },
  "language_info": {
   "codemirror_mode": {
    "name": "ipython",
    "version": 3
   },
   "file_extension": ".py",
   "mimetype": "text/x-python",
   "name": "python",
   "nbconvert_exporter": "python",
   "pygments_lexer": "ipython3",
   "version": "3.11.5"
  }
 },
 "nbformat": 4,
 "nbformat_minor": 5
}
